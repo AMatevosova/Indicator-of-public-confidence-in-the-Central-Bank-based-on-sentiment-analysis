{
 "cells": [
  {
   "cell_type": "markdown",
   "id": "b71548ff-80fe-4dae-a0e4-10f5deb9ab9c",
   "metadata": {},
   "source": [
    "# Построение индикатора по результатам сентимент-анализа с помощью RuBERT"
   ]
  },
  {
   "cell_type": "code",
   "execution_count": 2,
   "id": "be2ecb68-bf99-4786-94a0-bece91777fd3",
   "metadata": {},
   "outputs": [],
   "source": [
    "import pandas as pd"
   ]
  },
  {
   "cell_type": "code",
   "execution_count": 3,
   "id": "73b979f1-7456-44d1-80c1-f5b774abc9c9",
   "metadata": {},
   "outputs": [],
   "source": [
    "df_ec=pd.read_excel('EC_RuBERT-base_sentiment_classifier_3_labels_7000_2_epoch.xlsx')\n",
    "df_cb=pd.read_excel('CB_RuBERT-base_sentiment_classifier_3_labels_7000_2_epoch.xlsx')"
   ]
  },
  {
   "cell_type": "code",
   "execution_count": 4,
   "id": "64bab1ae-032d-4b5b-a2a2-65e5ae45fb94",
   "metadata": {},
   "outputs": [
    {
     "name": "stderr",
     "output_type": "stream",
     "text": [
      "C:\\Users\\Anastasia\\AppData\\Local\\Temp\\ipykernel_20232\\1898322403.py:18: FutureWarning: Setting an item of incompatible dtype is deprecated and will raise an error in a future version of pandas. Value '-0.8173546195030212' has dtype incompatible with int64, please explicitly cast to a compatible dtype first.\n",
      "  data.loc[df_ec['date'][i], 'sum_mood_ec'] = data['sum_mood_ec'][df_ec['date'][i]] + df_ec['Ppos-Pneg'][i]\n",
      "C:\\Users\\Anastasia\\AppData\\Local\\Temp\\ipykernel_20232\\1898322403.py:23: FutureWarning: Setting an item of incompatible dtype is deprecated and will raise an error in a future version of pandas. Value '-0.7963014245033264' has dtype incompatible with int64, please explicitly cast to a compatible dtype first.\n",
      "  data.loc[df_cb['date'][i], 'sum_mood_cb'] = data['sum_mood_cb'][df_cb['date'][i]] + df_cb['Ppos-Pneg'][i]\n"
     ]
    }
   ],
   "source": [
    "data = pd.DataFrame()\n",
    "data['date'] = pd.date_range(start='2014-1-1', end='2024-12-31')\n",
    "data['year_month'] = [str(data.iloc[i]['date'])[:7] for i in range(data.shape[0])]\n",
    "data['year'] = [str(data.iloc[i]['date'])[:4] for i in range(data.shape[0])]\n",
    "data.set_index('date', inplace = True, drop = False)\n",
    "data['num_ec'] = 0\n",
    "data['1_ec'] = 0\n",
    "data['-1_ec'] = 0\n",
    "data['sum_mood_ec'] = 0\n",
    "data['num_cb'] = 0\n",
    "data['1_cb'] = 0\n",
    "data['-1_cb'] = 0\n",
    "data['sum_mood_cb'] = 0\n",
    "for i in range(df_ec.shape[0]):\n",
    "  data.loc[df_ec['date'][i], 'num_ec'] = data['num_ec'][df_ec['date'][i]] + 1\n",
    "  data.loc[df_ec['date'][i], '1_ec'] = data['1_ec'][df_ec['date'][i]] + (df_ec['predict'][i] == 2)\n",
    "  data.loc[df_ec['date'][i], '-1_ec'] = data['-1_ec'][df_ec['date'][i]] + (df_ec['predict'][i] == 0)\n",
    "  data.loc[df_ec['date'][i], 'sum_mood_ec'] = data['sum_mood_ec'][df_ec['date'][i]] + df_ec['Ppos-Pneg'][i]\n",
    "for i in range(df_cb.shape[0]):\n",
    "  data.loc[df_cb['date'][i], 'num_cb'] = data['num_cb'][df_cb['date'][i]] + 1\n",
    "  data.loc[df_cb['date'][i], '1_cb'] = data['1_cb'][df_cb['date'][i]] + (df_cb['predict'][i] == 2)\n",
    "  data.loc[df_cb['date'][i], '-1_cb'] = data['-1_cb'][df_cb['date'][i]] + (df_cb['predict'][i] == 0)\n",
    "  data.loc[df_cb['date'][i], 'sum_mood_cb'] = data['sum_mood_cb'][df_cb['date'][i]] + df_cb['Ppos-Pneg'][i]"
   ]
  },
  {
   "cell_type": "markdown",
   "id": "6a4a17e2-7f68-4f7b-82cf-3ae21e80e9b0",
   "metadata": {},
   "source": [
    "## Построение индикатора доверия к ЦБ с ежедневной частотой"
   ]
  },
  {
   "cell_type": "code",
   "execution_count": 6,
   "id": "849f7057-bc29-4691-ab5b-ca41c1f8d20c",
   "metadata": {},
   "outputs": [],
   "source": [
    "data_days = data.copy()\n",
    "data_days['mood_ec']=data_days['sum_mood_ec']/data_days['num_ec']\n",
    "data_days['mood_cb']=data_days['sum_mood_cb']/data_days['num_cb']\n",
    "data_days['mood_cb_without_mood_ec']=data_days['mood_cb']-data_days['mood_ec'] #значения могут находиться на отрезке [-2,2]\n",
    "data_days['indicator']=(data_days['mood_cb_without_mood_ec']+2)/4 #приведение множества возможных значений индикатора к отрезку [0,1]\n",
    "data_days['indicator2']=((data_days['1_cb']-data_days['-1_cb'])/data_days['num_cb']-(data_days['1_ec']-data_days['-1_ec'])/data_days['num_ec'])/4+0.5"
   ]
  },
  {
   "cell_type": "markdown",
   "id": "ed6c87ae-104c-4049-b5ee-9401bd5472eb",
   "metadata": {},
   "source": [
    "## Построение индикатора доверия к ЦБ с ежеквартальной частотой"
   ]
  },
  {
   "cell_type": "code",
   "execution_count": 8,
   "id": "c8d8b976-7dca-4d82-af18-bcc216e8d54b",
   "metadata": {},
   "outputs": [],
   "source": [
    "data_month = data.drop(['date', 'year'], axis=1).groupby(['year_month']).agg('sum')\n",
    "data_month['mood_ec']=data_month['sum_mood_ec']/data_month['num_ec']\n",
    "data_month['mood_cb']=data_month['sum_mood_cb']/data_month['num_cb']\n",
    "data_month['mood_cb_without_mood_ec']=data_month['mood_cb']-data_month['mood_ec'] #значения могут находиться на отрезке [-2,2]\n",
    "data_month['indicator']=(data_month['mood_cb_without_mood_ec']+2)/4 #приведение множества возможных значений индикатора к отрезку [0,1]\n",
    "data_month['indicator2']=((data_month['1_cb']-data_month['-1_cb'])/data_month['num_cb']-(data_month['1_ec']-data_month['-1_ec'])/data_month['num_ec'])/4+0.5"
   ]
  },
  {
   "cell_type": "markdown",
   "id": "efb89f15-da7c-4d09-8b77-6f755a7ac225",
   "metadata": {},
   "source": [
    "## Построение индикатора доверия к ЦБ с ежегодной частотой"
   ]
  },
  {
   "cell_type": "code",
   "execution_count": 10,
   "id": "d7a48c68-8bd3-4392-87c3-4cbb5a0a6d7f",
   "metadata": {},
   "outputs": [],
   "source": [
    "data_year = data.drop(['date', 'year_month'], axis=1).groupby(['year']).agg('sum')\n",
    "data_year['mood_ec']=data_year['sum_mood_ec']/data_year['num_ec']\n",
    "data_year['mood_cb']=data_year['sum_mood_cb']/data_year['num_cb']\n",
    "data_year['mood_cb_without_mood_ec']=data_year['mood_cb']-data_year['mood_ec'] #значения могут находиться на отрезке [-2,2]\n",
    "data_year['indicator']=(data_year['mood_cb_without_mood_ec']+2)/4 #приведение множества возможных значений индикатора к отрезку [0,1]\n",
    "data_year['indicator2']=((data_year['1_cb']-data_year['-1_cb'])/data_year['num_cb']-(data_year['1_ec']-data_year['-1_ec'])/data_year['num_ec'])/4+0.5"
   ]
  },
  {
   "cell_type": "code",
   "execution_count": 11,
   "id": "ea818515-a9f3-4dac-8f83-465b5db8a250",
   "metadata": {},
   "outputs": [],
   "source": [
    "data_days.to_csv('indicator_d_RuBERT_7000.csv')\n",
    "data_month.to_csv('indicator_m_RuBERT_7000.csv')\n",
    "data_year.to_csv('indicator_y_RuBERT_7000.csv')"
   ]
  }
 ],
 "metadata": {
  "kernelspec": {
   "display_name": "Python 3 (ipykernel)",
   "language": "python",
   "name": "python3"
  },
  "language_info": {
   "codemirror_mode": {
    "name": "ipython",
    "version": 3
   },
   "file_extension": ".py",
   "mimetype": "text/x-python",
   "name": "python",
   "nbconvert_exporter": "python",
   "pygments_lexer": "ipython3",
   "version": "3.12.7"
  }
 },
 "nbformat": 4,
 "nbformat_minor": 5
}
