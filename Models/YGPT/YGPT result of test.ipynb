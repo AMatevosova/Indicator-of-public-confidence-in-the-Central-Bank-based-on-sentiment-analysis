{
 "cells": [
  {
   "cell_type": "code",
   "execution_count": 1,
   "id": "538b737c-4bc2-4177-beee-71827ffc6b0b",
   "metadata": {},
   "outputs": [],
   "source": [
    "import pandas as pd\n",
    "\n",
    "from sklearn.metrics import accuracy_score, precision_score, recall_score, f1_score, roc_auc_score, confusion_matrix\n",
    "from sklearn.metrics import root_mean_squared_error, mean_absolute_error\n",
    "from sklearn.metrics import cohen_kappa_score"
   ]
  },
  {
   "cell_type": "code",
   "execution_count": 2,
   "id": "74fac8c2-5e4b-47f5-9ffb-f23e81e03bd2",
   "metadata": {},
   "outputs": [],
   "source": [
    "df1 = pd.read_excel('YGPT_Zero-shot_8000-8099.xlsx')\n",
    "df2 = pd.read_excel('YGPT_Zero-shot_8100-8399.xlsx')\n",
    "df3 = pd.read_excel('YGPT_Zero-shot_8400-8699.xlsx')\n",
    "df4 = pd.read_excel('YGPT_Zero-shot_8700-8999.xlsx')\n",
    "df5 = pd.read_excel('YGPT_Zero-shot_9000-9299.xlsx')\n",
    "df6 = pd.read_excel('YGPT_Zero-shot_9300-9599.xlsx')\n",
    "df7 = pd.read_excel('YGPT_Zero-shot_9600-9899.xlsx')\n",
    "df8 = pd.read_excel('YGPT_Zero-shot_9900-9999.xlsx')"
   ]
  },
  {
   "cell_type": "code",
   "execution_count": 3,
   "id": "c27f9e73-085a-49fe-83fe-f5a9d530ca2d",
   "metadata": {},
   "outputs": [],
   "source": [
    "df_test = pd.concat([df1, df2, df3, df4, df5, df6, df7, df8])\n",
    "df_test = df_test.drop('Unnamed: 0', axis=1)\n",
    "df_test = df_test.reset_index()\n",
    "df_test = df_test.drop('index', axis=1)"
   ]
  },
  {
   "cell_type": "code",
   "execution_count": 4,
   "id": "09e5224e-4978-4525-99a7-96d46e670f60",
   "metadata": {},
   "outputs": [],
   "source": [
    "df_test.to_excel('YGPT_test.xlsx', index = False)"
   ]
  },
  {
   "cell_type": "code",
   "execution_count": 5,
   "id": "a00a70b1-0273-443c-a910-90645ed4fe1a",
   "metadata": {},
   "outputs": [
    {
     "data": {
      "text/html": [
       "<div>\n",
       "<style scoped>\n",
       "    .dataframe tbody tr th:only-of-type {\n",
       "        vertical-align: middle;\n",
       "    }\n",
       "\n",
       "    .dataframe tbody tr th {\n",
       "        vertical-align: top;\n",
       "    }\n",
       "\n",
       "    .dataframe thead th {\n",
       "        text-align: right;\n",
       "    }\n",
       "</style>\n",
       "<table border=\"1\" class=\"dataframe\">\n",
       "  <thead>\n",
       "    <tr style=\"text-align: right;\">\n",
       "      <th></th>\n",
       "      <th>post_id</th>\n",
       "      <th>text</th>\n",
       "      <th>labels</th>\n",
       "      <th>predict</th>\n",
       "      <th>Pneg</th>\n",
       "      <th>Pneutral</th>\n",
       "      <th>Ppos</th>\n",
       "      <th>Ppos-Pneg</th>\n",
       "    </tr>\n",
       "  </thead>\n",
       "  <tbody>\n",
       "    <tr>\n",
       "      <th>0</th>\n",
       "      <td>3700646</td>\n",
       "      <td>Они уху ели</td>\n",
       "      <td>0</td>\n",
       "      <td>0</td>\n",
       "      <td>9.999738e-01</td>\n",
       "      <td>5.093597e-06</td>\n",
       "      <td>2.014557e-05</td>\n",
       "      <td>-0.999954</td>\n",
       "    </tr>\n",
       "    <tr>\n",
       "      <th>1</th>\n",
       "      <td>14957701</td>\n",
       "      <td>ну на самом деле то что индия нам дружественны...</td>\n",
       "      <td>2</td>\n",
       "      <td>2</td>\n",
       "      <td>1.629532e-13</td>\n",
       "      <td>1.766179e-10</td>\n",
       "      <td>9.999990e-01</td>\n",
       "      <td>0.999999</td>\n",
       "    </tr>\n",
       "    <tr>\n",
       "      <th>2</th>\n",
       "      <td>12145864</td>\n",
       "      <td>Выгода только государствам . Людей что те что ...</td>\n",
       "      <td>0</td>\n",
       "      <td>0</td>\n",
       "      <td>9.999990e-01</td>\n",
       "      <td>1.383792e-09</td>\n",
       "      <td>3.319544e-09</td>\n",
       "      <td>-0.999999</td>\n",
       "    </tr>\n",
       "    <tr>\n",
       "      <th>3</th>\n",
       "      <td>3324391</td>\n",
       "      <td>Рублёв - в Барселоне, Медведев - в Монако, но ...</td>\n",
       "      <td>0</td>\n",
       "      <td>0</td>\n",
       "      <td>6.009167e-01</td>\n",
       "      <td>3.588238e-01</td>\n",
       "      <td>4.025891e-02</td>\n",
       "      <td>-0.560658</td>\n",
       "    </tr>\n",
       "    <tr>\n",
       "      <th>4</th>\n",
       "      <td>1592388</td>\n",
       "      <td>Занесут ему чемодан ..он успокоится</td>\n",
       "      <td>2</td>\n",
       "      <td>1</td>\n",
       "      <td>1.461562e-09</td>\n",
       "      <td>9.999896e-01</td>\n",
       "      <td>9.368708e-06</td>\n",
       "      <td>0.000009</td>\n",
       "    </tr>\n",
       "    <tr>\n",
       "      <th>...</th>\n",
       "      <td>...</td>\n",
       "      <td>...</td>\n",
       "      <td>...</td>\n",
       "      <td>...</td>\n",
       "      <td>...</td>\n",
       "      <td>...</td>\n",
       "      <td>...</td>\n",
       "      <td>...</td>\n",
       "    </tr>\n",
       "    <tr>\n",
       "      <th>1995</th>\n",
       "      <td>1139301</td>\n",
       "      <td>Не, ну это вообще пи.дец...!😡😤😡😤</td>\n",
       "      <td>2</td>\n",
       "      <td>0</td>\n",
       "      <td>9.999990e-01</td>\n",
       "      <td>8.583595e-13</td>\n",
       "      <td>3.633512e-12</td>\n",
       "      <td>-0.999999</td>\n",
       "    </tr>\n",
       "    <tr>\n",
       "      <th>1996</th>\n",
       "      <td>5343030</td>\n",
       "      <td>Чего он сказал-то? Как назвал , оскорбил? Ниче...</td>\n",
       "      <td>0</td>\n",
       "      <td>0</td>\n",
       "      <td>9.999990e-01</td>\n",
       "      <td>4.572865e-09</td>\n",
       "      <td>7.067716e-10</td>\n",
       "      <td>-0.999999</td>\n",
       "    </tr>\n",
       "    <tr>\n",
       "      <th>1997</th>\n",
       "      <td>5595571</td>\n",
       "      <td>Они все , включая и эту НаЕбулину , живут в Пу...</td>\n",
       "      <td>0</td>\n",
       "      <td>0</td>\n",
       "      <td>9.999990e-01</td>\n",
       "      <td>5.211407e-10</td>\n",
       "      <td>1.092370e-10</td>\n",
       "      <td>-0.999999</td>\n",
       "    </tr>\n",
       "    <tr>\n",
       "      <th>1998</th>\n",
       "      <td>6590679</td>\n",
       "      <td>ну так власятм спасибо скажите , это их рук дело</td>\n",
       "      <td>0</td>\n",
       "      <td>0</td>\n",
       "      <td>9.999989e-01</td>\n",
       "      <td>8.362895e-08</td>\n",
       "      <td>2.491456e-08</td>\n",
       "      <td>-0.999999</td>\n",
       "    </tr>\n",
       "    <tr>\n",
       "      <th>1999</th>\n",
       "      <td>3177783</td>\n",
       "      <td>12 лет обращаюсь во все инстанции по вопросу у...</td>\n",
       "      <td>0</td>\n",
       "      <td>0</td>\n",
       "      <td>9.999990e-01</td>\n",
       "      <td>8.410785e-09</td>\n",
       "      <td>1.438916e-09</td>\n",
       "      <td>-0.999999</td>\n",
       "    </tr>\n",
       "  </tbody>\n",
       "</table>\n",
       "<p>2000 rows × 8 columns</p>\n",
       "</div>"
      ],
      "text/plain": [
       "       post_id                                               text  labels  \\\n",
       "0      3700646                                        Они уху ели       0   \n",
       "1     14957701  ну на самом деле то что индия нам дружественны...       2   \n",
       "2     12145864  Выгода только государствам . Людей что те что ...       0   \n",
       "3      3324391  Рублёв - в Барселоне, Медведев - в Монако, но ...       0   \n",
       "4      1592388                Занесут ему чемодан ..он успокоится       2   \n",
       "...        ...                                                ...     ...   \n",
       "1995   1139301                   Не, ну это вообще пи.дец...!😡😤😡😤       2   \n",
       "1996   5343030  Чего он сказал-то? Как назвал , оскорбил? Ниче...       0   \n",
       "1997   5595571  Они все , включая и эту НаЕбулину , живут в Пу...       0   \n",
       "1998   6590679   ну так власятм спасибо скажите , это их рук дело       0   \n",
       "1999   3177783  12 лет обращаюсь во все инстанции по вопросу у...       0   \n",
       "\n",
       "      predict          Pneg      Pneutral          Ppos  Ppos-Pneg  \n",
       "0           0  9.999738e-01  5.093597e-06  2.014557e-05  -0.999954  \n",
       "1           2  1.629532e-13  1.766179e-10  9.999990e-01   0.999999  \n",
       "2           0  9.999990e-01  1.383792e-09  3.319544e-09  -0.999999  \n",
       "3           0  6.009167e-01  3.588238e-01  4.025891e-02  -0.560658  \n",
       "4           1  1.461562e-09  9.999896e-01  9.368708e-06   0.000009  \n",
       "...       ...           ...           ...           ...        ...  \n",
       "1995        0  9.999990e-01  8.583595e-13  3.633512e-12  -0.999999  \n",
       "1996        0  9.999990e-01  4.572865e-09  7.067716e-10  -0.999999  \n",
       "1997        0  9.999990e-01  5.211407e-10  1.092370e-10  -0.999999  \n",
       "1998        0  9.999989e-01  8.362895e-08  2.491456e-08  -0.999999  \n",
       "1999        0  9.999990e-01  8.410785e-09  1.438916e-09  -0.999999  \n",
       "\n",
       "[2000 rows x 8 columns]"
      ]
     },
     "execution_count": 5,
     "metadata": {},
     "output_type": "execute_result"
    }
   ],
   "source": [
    "df_test"
   ]
  },
  {
   "cell_type": "code",
   "execution_count": 6,
   "id": "fbfa9c72-a2ea-4554-8395-d10901d11292",
   "metadata": {},
   "outputs": [
    {
     "name": "stdout",
     "output_type": "stream",
     "text": [
      "accuracy 0.642\n",
      "macro_precision 0.6080601008524141\n",
      "macro_recall 0.5933385375061473\n",
      "macro_f1 0.5913084895962891\n"
     ]
    }
   ],
   "source": [
    "print('accuracy', accuracy_score(df_test['labels'], df_test['predict']))\n",
    "print('macro_precision', precision_score(df_test['labels'], df_test['predict'], average='macro'))\n",
    "print('macro_recall', recall_score(df_test['labels'], df_test['predict'], average='macro'))\n",
    "print('macro_f1', f1_score(df_test['labels'], df_test['predict'], average='macro'))"
   ]
  },
  {
   "cell_type": "code",
   "execution_count": 7,
   "id": "627ac8d5-c02e-4e70-8371-0c334c0314ce",
   "metadata": {},
   "outputs": [
    {
     "name": "stdout",
     "output_type": "stream",
     "text": [
      "precision by class [0.69404862 0.57320099 0.55693069]\n",
      "recall by class [0.84231943 0.37378641 0.56390977]\n",
      "f1 by class [0.76102941 0.45249755 0.56039851]\n"
     ]
    }
   ],
   "source": [
    "print('precision by class', precision_score(df_test['labels'], df_test['predict'], average=None))\n",
    "print('recall by class', recall_score(df_test['labels'], df_test['predict'], average=None))\n",
    "print('f1 by class', f1_score(df_test['labels'], df_test['predict'], average=None))"
   ]
  },
  {
   "cell_type": "code",
   "execution_count": 8,
   "id": "b2cd9e39-7ffc-4109-8b6e-786d1d7d5393",
   "metadata": {},
   "outputs": [
    {
     "data": {
      "text/plain": [
       "array([[828,  90,  65],\n",
       "       [273, 231, 114],\n",
       "       [ 92,  82, 225]], dtype=int64)"
      ]
     },
     "execution_count": 8,
     "metadata": {},
     "output_type": "execute_result"
    }
   ],
   "source": [
    "confusion_matrix(df_test['labels'], df_test['predict'], labels=[0,1,2])"
   ]
  },
  {
   "cell_type": "code",
   "execution_count": 9,
   "id": "eef39cd7-1e42-4ec9-855a-d7fa0886a512",
   "metadata": {},
   "outputs": [
    {
     "data": {
      "text/plain": [
       "0.5286360546162693"
      ]
     },
     "execution_count": 9,
     "metadata": {},
     "output_type": "execute_result"
    }
   ],
   "source": [
    "cohen_kappa_score(df_test['labels'], df_test['predict'], labels=None, weights= 'quadratic', sample_weight=None)"
   ]
  }
 ],
 "metadata": {
  "kernelspec": {
   "display_name": "Python 3 (ipykernel)",
   "language": "python",
   "name": "python3"
  },
  "language_info": {
   "codemirror_mode": {
    "name": "ipython",
    "version": 3
   },
   "file_extension": ".py",
   "mimetype": "text/x-python",
   "name": "python",
   "nbconvert_exporter": "python",
   "pygments_lexer": "ipython3",
   "version": "3.12.7"
  }
 },
 "nbformat": 4,
 "nbformat_minor": 5
}
