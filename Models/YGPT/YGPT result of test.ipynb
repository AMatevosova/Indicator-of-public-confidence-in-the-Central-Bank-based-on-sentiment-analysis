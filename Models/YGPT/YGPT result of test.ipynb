{
 "cells": [
  {
   "cell_type": "code",
   "execution_count": 1,
   "id": "3cea0d16-c04a-452d-be11-fe42acae41c7",
   "metadata": {},
   "outputs": [],
   "source": [
    "import pandas as pd\n",
    "\n",
    "from sklearn.metrics import accuracy_score, precision_score, recall_score, f1_score, roc_auc_score, confusion_matrix\n",
    "from sklearn.metrics import root_mean_squared_error, mean_absolute_error\n",
    "from sklearn.metrics import cohen_kappa_score"
   ]
  },
  {
   "cell_type": "code",
   "execution_count": 2,
   "id": "ffa968d1-678e-4c30-a6b7-6180f9dd49dd",
   "metadata": {},
   "outputs": [],
   "source": [
    "df1 = pd.read_excel('YGPT_Zero-shot_8000-8299.xlsx')\n",
    "df2 = pd.read_excel('YGPT_Zero-shot_8300-8599.xlsx')\n",
    "df3 = pd.read_excel('YGPT_Zero-shot_8600-8899.xlsx')\n",
    "df4 = pd.read_excel('YGPT_Zero-shot_8900-9199.xlsx')\n",
    "df5 = pd.read_excel('YGPT_Zero-shot_9200-9599.xlsx')\n",
    "df6 = pd.read_excel('YGPT_Zero-shot_9600-9999.xlsx')"
   ]
  },
  {
   "cell_type": "code",
   "execution_count": 3,
   "id": "a12d7254-5e0b-4526-8f23-0ed1c727272f",
   "metadata": {},
   "outputs": [],
   "source": [
    "df_test = pd.concat([df1, df2, df3, df4, df5, df6])\n",
    "df_test = df_test.drop('Unnamed: 0', axis=1)\n",
    "df_test = df_test.reset_index()\n",
    "df_test = df_test.drop('index', axis=1)"
   ]
  },
  {
   "cell_type": "code",
   "execution_count": 4,
   "id": "764f831f-f2d5-409c-923e-b7211e886b2d",
   "metadata": {},
   "outputs": [],
   "source": [
    "df_test.to_excel('YGPT_test.xlsx', index = False)"
   ]
  },
  {
   "cell_type": "code",
   "execution_count": 5,
   "id": "f0d3e3d5-a800-4515-b455-b6e0b020f286",
   "metadata": {},
   "outputs": [
    {
     "name": "stdout",
     "output_type": "stream",
     "text": [
      "accuracy 0.6045\n",
      "macro_precision 0.5729333096945701\n",
      "macro_recall 0.5832054918941286\n",
      "macro_f1 0.5769461594062174\n"
     ]
    }
   ],
   "source": [
    "print('accuracy', accuracy_score(df_test['labels'], df_test['predict']))\n",
    "print('macro_precision', precision_score(df_test['labels'], df_test['predict'], average='macro'))\n",
    "print('macro_recall', recall_score(df_test['labels'], df_test['predict'], average='macro'))\n",
    "print('macro_f1', f1_score(df_test['labels'], df_test['predict'], average='macro'))"
   ]
  },
  {
   "cell_type": "code",
   "execution_count": 6,
   "id": "164e7c0a-e8ea-4f6d-ad69-fcbabefd69ba",
   "metadata": {},
   "outputs": [
    {
     "name": "stdout",
     "output_type": "stream",
     "text": [
      "precision by class [0.73548387 0.48440066 0.4989154 ]\n",
      "recall by class [0.69582909 0.47734628 0.5764411 ]\n",
      "f1 by class [0.71510716 0.4808476  0.53488372]\n"
     ]
    }
   ],
   "source": [
    "print('precision by class', precision_score(df_test['labels'], df_test['predict'], average=None))\n",
    "print('recall by class', recall_score(df_test['labels'], df_test['predict'], average=None))\n",
    "print('f1 by class', f1_score(df_test['labels'], df_test['predict'], average=None))"
   ]
  },
  {
   "cell_type": "code",
   "execution_count": 7,
   "id": "d9e62f6f-5f1e-4eab-abc8-c873ae7c597f",
   "metadata": {},
   "outputs": [
    {
     "data": {
      "text/plain": [
       "array([[684, 201,  98],\n",
       "       [190, 295, 133],\n",
       "       [ 56, 113, 230]], dtype=int64)"
      ]
     },
     "execution_count": 7,
     "metadata": {},
     "output_type": "execute_result"
    }
   ],
   "source": [
    "confusion_matrix(df_test['labels'], df_test['predict'], labels=[0,1,2])"
   ]
  },
  {
   "cell_type": "code",
   "execution_count": 8,
   "id": "752bce20-5d60-4d35-bd3a-4faaaa238bb3",
   "metadata": {},
   "outputs": [
    {
     "data": {
      "text/plain": [
       "0.4986203055174975"
      ]
     },
     "execution_count": 8,
     "metadata": {},
     "output_type": "execute_result"
    }
   ],
   "source": [
    "cohen_kappa_score(df_test['labels'], df_test['predict'], labels=None, weights= 'quadratic', sample_weight=None)"
   ]
  }
 ],
 "metadata": {
  "kernelspec": {
   "display_name": "Python 3 (ipykernel)",
   "language": "python",
   "name": "python3"
  },
  "language_info": {
   "codemirror_mode": {
    "name": "ipython",
    "version": 3
   },
   "file_extension": ".py",
   "mimetype": "text/x-python",
   "name": "python",
   "nbconvert_exporter": "python",
   "pygments_lexer": "ipython3",
   "version": "3.12.7"
  }
 },
 "nbformat": 4,
 "nbformat_minor": 5
}
