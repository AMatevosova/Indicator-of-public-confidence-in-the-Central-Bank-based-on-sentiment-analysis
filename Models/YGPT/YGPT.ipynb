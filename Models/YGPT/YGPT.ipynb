{
 "cells": [
  {
   "cell_type": "markdown",
   "id": "aeb1c994-ad70-46f3-be83-f157cb02e91e",
   "metadata": {},
   "source": [
    "## Ноутбук запускается в Yandex DataSphere"
   ]
  },
  {
   "cell_type": "code",
   "execution_count": 1,
   "id": "c7ffb872-ea9f-4522-aa8e-42295ab424cf",
   "metadata": {
    "execution": {
     "iopub.execute_input": "2025-04-04T12:01:21.314710Z",
     "iopub.status.busy": "2025-04-04T12:01:21.313801Z",
     "iopub.status.idle": "2025-04-04T12:01:21.391945Z",
     "shell.execute_reply": "2025-04-04T12:01:21.390847Z",
     "shell.execute_reply.started": "2025-04-04T12:01:21.314664Z"
    },
    "tags": []
   },
   "outputs": [],
   "source": [
    "#%pip install --upgrade pip\n",
    "#%pip install yandexcloud --upgrade\n",
    "#%pip install yandex-cloud-ml-sdk --upgrade\n",
    "#%pip install scikit-learn --upgrade"
   ]
  },
  {
   "cell_type": "code",
   "execution_count": 2,
   "id": "c2c40b2c-16e7-4872-b5bb-5db25f61a0f0",
   "metadata": {
    "execution": {
     "iopub.execute_input": "2025-04-04T12:01:21.398543Z",
     "iopub.status.busy": "2025-04-04T12:01:21.397179Z",
     "iopub.status.idle": "2025-04-04T12:01:25.948457Z",
     "shell.execute_reply": "2025-04-04T12:01:25.947424Z",
     "shell.execute_reply.started": "2025-04-04T12:01:21.398499Z"
    },
    "tags": []
   },
   "outputs": [],
   "source": [
    "import os\n",
    "import pandas as pd\n",
    "import numpy as np\n",
    "from yandex_cloud_ml_sdk import YCloudML\n",
    "\n",
    "from sklearn.metrics import accuracy_score, precision_score, recall_score, f1_score, roc_auc_score, confusion_matrix\n",
    "from sklearn.metrics import root_mean_squared_error, mean_absolute_error\n",
    "from sklearn.metrics import cohen_kappa_score"
   ]
  },
  {
   "cell_type": "code",
   "execution_count": 3,
   "id": "0fada5ca-15a8-4106-af84-279040599926",
   "metadata": {
    "execution": {
     "iopub.execute_input": "2025-04-04T12:01:25.951452Z",
     "iopub.status.busy": "2025-04-04T12:01:25.950610Z",
     "iopub.status.idle": "2025-04-04T12:01:27.270755Z",
     "shell.execute_reply": "2025-04-04T12:01:27.269792Z",
     "shell.execute_reply.started": "2025-04-04T12:01:25.951406Z"
    },
    "tags": []
   },
   "outputs": [],
   "source": [
    "df = pd.read_excel('marked_data.xlsx')\n",
    "df['labels'] = df['labels'] + 1"
   ]
  },
  {
   "cell_type": "markdown",
   "id": "cbd30aa5-35cc-44f9-855a-22d36fc788ff",
   "metadata": {
    "execution": {
     "iopub.execute_input": "2025-04-04T10:04:16.275135Z",
     "iopub.status.busy": "2025-04-04T10:04:16.273719Z",
     "iopub.status.idle": "2025-04-04T10:04:16.290042Z",
     "shell.execute_reply": "2025-04-04T10:04:16.289154Z",
     "shell.execute_reply.started": "2025-04-04T10:04:16.275069Z"
    },
    "tags": []
   },
   "source": [
    "# Zero-shot"
   ]
  },
  {
   "cell_type": "code",
   "execution_count": 36,
   "id": "68631009-70e9-4a13-9a80-d053acfc8f03",
   "metadata": {
    "execution": {
     "iopub.execute_input": "2025-04-04T12:50:33.058771Z",
     "iopub.status.busy": "2025-04-04T12:50:33.057269Z",
     "iopub.status.idle": "2025-04-04T12:50:33.076511Z",
     "shell.execute_reply": "2025-04-04T12:50:33.075592Z",
     "shell.execute_reply.started": "2025-04-04T12:50:33.058720Z"
    },
    "tags": []
   },
   "outputs": [],
   "source": [
    "df_test = df[9900:]"
   ]
  },
  {
   "cell_type": "code",
   "execution_count": 37,
   "id": "bd60f07e-8a0d-4a6f-9b39-b714ff56784c",
   "metadata": {
    "execution": {
     "iopub.execute_input": "2025-04-04T12:50:33.228715Z",
     "iopub.status.busy": "2025-04-04T12:50:33.227341Z",
     "iopub.status.idle": "2025-04-04T12:50:33.248091Z",
     "shell.execute_reply": "2025-04-04T12:50:33.247115Z",
     "shell.execute_reply.started": "2025-04-04T12:50:33.228664Z"
    },
    "tags": []
   },
   "outputs": [],
   "source": [
    "sdk = YCloudML(\n",
    "        folder_id=os.environ['FOLDER_ID'],\n",
    "        auth=os.environ['API_KEY'],\n",
    "    )\n",
    "    \n",
    "model = sdk.models.text_classifiers(\"yandexgpt\").configure(\n",
    "        task_description=\"определи тип интента\",\n",
    "        labels=[\"негативный\", \"нейтральный\", \"позитивный\"],\n",
    "    )"
   ]
  },
  {
   "cell_type": "code",
   "execution_count": 38,
   "id": "e2b0a9ab-ec1d-4cda-9bbc-eb326371d14d",
   "metadata": {
    "execution": {
     "iopub.execute_input": "2025-04-04T12:50:35.366984Z",
     "iopub.status.busy": "2025-04-04T12:50:35.365704Z",
     "iopub.status.idle": "2025-04-04T12:53:38.919173Z",
     "shell.execute_reply": "2025-04-04T12:53:38.918132Z",
     "shell.execute_reply.started": "2025-04-04T12:50:35.366931Z"
    },
    "tags": []
   },
   "outputs": [],
   "source": [
    "pred = []\n",
    "p_neg = []\n",
    "p_neu = []\n",
    "p_pos = []\n",
    "for i in df_test.index:\n",
    "    request_text = df_test['text'][i]\n",
    "    result = model.run(request_text)\n",
    "    pred.append(np.argmax([result[0]['confidence'], result[1]['confidence'], result[2]['confidence']]))\n",
    "    p_neg.append(result[0]['confidence'])\n",
    "    p_neu.append(result[1]['confidence'])\n",
    "    p_pos.append(result[2]['confidence'])"
   ]
  },
  {
   "cell_type": "code",
   "execution_count": 39,
   "id": "0b56f56a-ca92-4cd0-b317-ad7952556b82",
   "metadata": {
    "execution": {
     "iopub.execute_input": "2025-04-04T12:53:38.922117Z",
     "iopub.status.busy": "2025-04-04T12:53:38.921112Z",
     "iopub.status.idle": "2025-04-04T12:53:38.960285Z",
     "shell.execute_reply": "2025-04-04T12:53:38.959414Z",
     "shell.execute_reply.started": "2025-04-04T12:53:38.922072Z"
    },
    "tags": []
   },
   "outputs": [
    {
     "data": {
      "text/html": [
       "<div>\n",
       "<style scoped>\n",
       "    .dataframe tbody tr th:only-of-type {\n",
       "        vertical-align: middle;\n",
       "    }\n",
       "\n",
       "    .dataframe tbody tr th {\n",
       "        vertical-align: top;\n",
       "    }\n",
       "\n",
       "    .dataframe thead th {\n",
       "        text-align: right;\n",
       "    }\n",
       "</style>\n",
       "<table border=\"1\" class=\"dataframe\">\n",
       "  <thead>\n",
       "    <tr style=\"text-align: right;\">\n",
       "      <th></th>\n",
       "      <th>post_id</th>\n",
       "      <th>text</th>\n",
       "      <th>labels</th>\n",
       "      <th>predict</th>\n",
       "      <th>Pneg</th>\n",
       "      <th>Pneutral</th>\n",
       "      <th>Ppos</th>\n",
       "      <th>Ppos-Pneg</th>\n",
       "    </tr>\n",
       "  </thead>\n",
       "  <tbody>\n",
       "    <tr>\n",
       "      <th>9900</th>\n",
       "      <td>5910239</td>\n",
       "      <td>Сохранять  деньги в долларах??? Можно сильно п...</td>\n",
       "      <td>0</td>\n",
       "      <td>0</td>\n",
       "      <td>9.999989e-01</td>\n",
       "      <td>6.312644e-08</td>\n",
       "      <td>4.163640e-09</td>\n",
       "      <td>-0.999999</td>\n",
       "    </tr>\n",
       "    <tr>\n",
       "      <th>9901</th>\n",
       "      <td>4774600</td>\n",
       "      <td>молодцы ер , лучше на помойку...</td>\n",
       "      <td>0</td>\n",
       "      <td>0</td>\n",
       "      <td>9.999990e-01</td>\n",
       "      <td>3.242647e-09</td>\n",
       "      <td>4.074533e-10</td>\n",
       "      <td>-0.999999</td>\n",
       "    </tr>\n",
       "    <tr>\n",
       "      <th>9902</th>\n",
       "      <td>333368</td>\n",
       "      <td>Херню бредовую он высказал.</td>\n",
       "      <td>0</td>\n",
       "      <td>0</td>\n",
       "      <td>9.999990e-01</td>\n",
       "      <td>3.940879e-11</td>\n",
       "      <td>2.871968e-11</td>\n",
       "      <td>-0.999999</td>\n",
       "    </tr>\n",
       "    <tr>\n",
       "      <th>9903</th>\n",
       "      <td>1552124</td>\n",
       "      <td>Доллар, валюта недружественной страны, так поч...</td>\n",
       "      <td>0</td>\n",
       "      <td>0</td>\n",
       "      <td>9.999990e-01</td>\n",
       "      <td>4.501969e-09</td>\n",
       "      <td>1.804805e-09</td>\n",
       "      <td>-0.999999</td>\n",
       "    </tr>\n",
       "    <tr>\n",
       "      <th>9904</th>\n",
       "      <td>1602851</td>\n",
       "      <td>🤣</td>\n",
       "      <td>2</td>\n",
       "      <td>2</td>\n",
       "      <td>2.265267e-11</td>\n",
       "      <td>1.820465e-10</td>\n",
       "      <td>9.999990e-01</td>\n",
       "      <td>0.999999</td>\n",
       "    </tr>\n",
       "    <tr>\n",
       "      <th>...</th>\n",
       "      <td>...</td>\n",
       "      <td>...</td>\n",
       "      <td>...</td>\n",
       "      <td>...</td>\n",
       "      <td>...</td>\n",
       "      <td>...</td>\n",
       "      <td>...</td>\n",
       "      <td>...</td>\n",
       "    </tr>\n",
       "    <tr>\n",
       "      <th>9995</th>\n",
       "      <td>1139301</td>\n",
       "      <td>Не, ну это вообще пи.дец...!😡😤😡😤</td>\n",
       "      <td>2</td>\n",
       "      <td>0</td>\n",
       "      <td>9.999990e-01</td>\n",
       "      <td>8.583595e-13</td>\n",
       "      <td>3.633512e-12</td>\n",
       "      <td>-0.999999</td>\n",
       "    </tr>\n",
       "    <tr>\n",
       "      <th>9996</th>\n",
       "      <td>5343030</td>\n",
       "      <td>Чего он сказал-то? Как назвал , оскорбил? Ниче...</td>\n",
       "      <td>0</td>\n",
       "      <td>0</td>\n",
       "      <td>9.999990e-01</td>\n",
       "      <td>4.572865e-09</td>\n",
       "      <td>7.067716e-10</td>\n",
       "      <td>-0.999999</td>\n",
       "    </tr>\n",
       "    <tr>\n",
       "      <th>9997</th>\n",
       "      <td>5595571</td>\n",
       "      <td>Они все , включая и эту НаЕбулину , живут в Пу...</td>\n",
       "      <td>0</td>\n",
       "      <td>0</td>\n",
       "      <td>9.999990e-01</td>\n",
       "      <td>5.211407e-10</td>\n",
       "      <td>1.092370e-10</td>\n",
       "      <td>-0.999999</td>\n",
       "    </tr>\n",
       "    <tr>\n",
       "      <th>9998</th>\n",
       "      <td>6590679</td>\n",
       "      <td>ну так власятм спасибо скажите , это их рук дело</td>\n",
       "      <td>0</td>\n",
       "      <td>0</td>\n",
       "      <td>9.999989e-01</td>\n",
       "      <td>8.362895e-08</td>\n",
       "      <td>2.491456e-08</td>\n",
       "      <td>-0.999999</td>\n",
       "    </tr>\n",
       "    <tr>\n",
       "      <th>9999</th>\n",
       "      <td>3177783</td>\n",
       "      <td>12 лет обращаюсь во все инстанции по вопросу у...</td>\n",
       "      <td>0</td>\n",
       "      <td>0</td>\n",
       "      <td>9.999990e-01</td>\n",
       "      <td>8.410785e-09</td>\n",
       "      <td>1.438916e-09</td>\n",
       "      <td>-0.999999</td>\n",
       "    </tr>\n",
       "  </tbody>\n",
       "</table>\n",
       "<p>100 rows × 8 columns</p>\n",
       "</div>"
      ],
      "text/plain": [
       "      post_id  ... Ppos-Pneg\n",
       "9900  5910239  ... -0.999999\n",
       "9901  4774600  ... -0.999999\n",
       "9902   333368  ... -0.999999\n",
       "9903  1552124  ... -0.999999\n",
       "9904  1602851  ...  0.999999\n",
       "...       ...  ...       ...\n",
       "9995  1139301  ... -0.999999\n",
       "9996  5343030  ... -0.999999\n",
       "9997  5595571  ... -0.999999\n",
       "9998  6590679  ... -0.999999\n",
       "9999  3177783  ... -0.999999\n",
       "\n",
       "[100 rows x 8 columns]"
      ]
     },
     "execution_count": 39,
     "metadata": {},
     "output_type": "execute_result"
    }
   ],
   "source": [
    "df_test_res0 = df_test.copy()\n",
    "df_test_res0['predict'] = pred\n",
    "df_test_res0['Pneg'] = p_neg\n",
    "df_test_res0['Pneutral'] = p_neu\n",
    "df_test_res0['Ppos'] = p_pos\n",
    "df_test_res0['Ppos-Pneg'] = df_test_res0['Ppos'] - df_test_res0['Pneg']\n",
    "df_test_res0"
   ]
  },
  {
   "cell_type": "code",
   "execution_count": 40,
   "id": "621b1c0d-0f2a-497d-8bdb-90ae4c4fd956",
   "metadata": {
    "execution": {
     "iopub.execute_input": "2025-04-04T12:53:38.963289Z",
     "iopub.status.busy": "2025-04-04T12:53:38.961642Z",
     "iopub.status.idle": "2025-04-04T12:53:38.992928Z",
     "shell.execute_reply": "2025-04-04T12:53:38.991868Z",
     "shell.execute_reply.started": "2025-04-04T12:53:38.963242Z"
    },
    "tags": []
   },
   "outputs": [
    {
     "name": "stdout",
     "output_type": "stream",
     "text": [
      "accuracy 0.6\n",
      "macro_precision 0.5666666666666667\n",
      "macro_recall 0.5287581699346405\n",
      "macro_f1 0.529004329004329\n",
      "RMSE for Ppos-Pneg 0.871624515169865\n",
      "MAE for Ppos-Pneg 0.5220409507429449\n"
     ]
    }
   ],
   "source": [
    "print('accuracy', accuracy_score(df_test_res0['labels'], df_test_res0['predict']))\n",
    "print('macro_precision', precision_score(df_test_res0['labels'], df_test_res0['predict'], average='macro'))\n",
    "print('macro_recall', recall_score(df_test_res0['labels'], df_test_res0['predict'], average='macro'))\n",
    "print('macro_f1', f1_score(df_test_res0['labels'], df_test_res0['predict'], average='macro'))\n",
    "print('RMSE for Ppos-Pneg', root_mean_squared_error(df_test_res0['labels']-1, df_test_res0['Ppos-Pneg']))\n",
    "print('MAE for Ppos-Pneg', mean_absolute_error(df_test_res0['labels']-1, df_test_res0['Ppos-Pneg']))"
   ]
  },
  {
   "cell_type": "code",
   "execution_count": 41,
   "id": "67ff11e6-1816-44da-ae94-4df93020f3ff",
   "metadata": {
    "execution": {
     "iopub.execute_input": "2025-04-04T12:53:38.996588Z",
     "iopub.status.busy": "2025-04-04T12:53:38.995419Z",
     "iopub.status.idle": "2025-04-04T12:53:39.021901Z",
     "shell.execute_reply": "2025-04-04T12:53:39.020790Z",
     "shell.execute_reply.started": "2025-04-04T12:53:38.996539Z"
    },
    "tags": []
   },
   "outputs": [
    {
     "name": "stdout",
     "output_type": "stream",
     "text": [
      "precision by class [0.625 0.7   0.375]\n",
      "recall by class [0.83333333 0.4        0.35294118]\n",
      "f1 by class [0.71428571 0.50909091 0.36363636]\n"
     ]
    }
   ],
   "source": [
    "print('precision by class', precision_score(df_test_res0['labels'], df_test_res0['predict'], average=None))\n",
    "print('recall by class', recall_score(df_test_res0['labels'], df_test_res0['predict'], average=None))\n",
    "print('f1 by class', f1_score(df_test_res0['labels'], df_test_res0['predict'], average=None))"
   ]
  },
  {
   "cell_type": "code",
   "execution_count": 42,
   "id": "b64f22eb-209e-43bc-8846-c5ac44ccfd93",
   "metadata": {
    "execution": {
     "iopub.execute_input": "2025-04-04T12:53:39.024743Z",
     "iopub.status.busy": "2025-04-04T12:53:39.023182Z",
     "iopub.status.idle": "2025-04-04T12:53:39.065975Z",
     "shell.execute_reply": "2025-04-04T12:53:39.064889Z",
     "shell.execute_reply.started": "2025-04-04T12:53:39.024703Z"
    },
    "tags": []
   },
   "outputs": [
    {
     "data": {
      "text/plain": [
       "array([[40,  5,  3],\n",
       "       [14, 14,  7],\n",
       "       [10,  1,  6]])"
      ]
     },
     "execution_count": 42,
     "metadata": {},
     "output_type": "execute_result"
    }
   ],
   "source": [
    "confusion_matrix(df_test_res0['labels'], df_test_res0['predict'], labels=[0,1,2])"
   ]
  },
  {
   "cell_type": "code",
   "execution_count": 43,
   "id": "bd582e53-45fe-4198-98e0-e6ae734a016c",
   "metadata": {
    "execution": {
     "iopub.execute_input": "2025-04-04T12:53:39.068514Z",
     "iopub.status.busy": "2025-04-04T12:53:39.067065Z",
     "iopub.status.idle": "2025-04-04T12:53:39.118690Z",
     "shell.execute_reply": "2025-04-04T12:53:39.117539Z",
     "shell.execute_reply.started": "2025-04-04T12:53:39.068466Z"
    },
    "tags": []
   },
   "outputs": [
    {
     "data": {
      "text/plain": [
       "0.3144741409232906"
      ]
     },
     "execution_count": 43,
     "metadata": {},
     "output_type": "execute_result"
    }
   ],
   "source": [
    "cohen_kappa_score(df_test_res0['labels'], df_test_res0['predict'], labels=None, weights= 'quadratic', sample_weight=None)"
   ]
  },
  {
   "cell_type": "code",
   "execution_count": 44,
   "id": "b8b3eb33-fad3-48dc-8857-88d0a9a781f7",
   "metadata": {
    "execution": {
     "iopub.execute_input": "2025-04-04T12:53:39.120558Z",
     "iopub.status.busy": "2025-04-04T12:53:39.119938Z",
     "iopub.status.idle": "2025-04-04T12:53:39.192516Z",
     "shell.execute_reply": "2025-04-04T12:53:39.191580Z",
     "shell.execute_reply.started": "2025-04-04T12:53:39.120514Z"
    },
    "tags": []
   },
   "outputs": [],
   "source": [
    "df_test_res0.to_excel('YGPT_Zero-shot_9900-9999.xlsx')"
   ]
  }
 ],
 "metadata": {
  "kernelspec": {
   "display_name": "Python 3 (ipykernel)",
   "language": "python",
   "name": "python3"
  },
  "language_info": {
   "codemirror_mode": {
    "name": "ipython",
    "version": 3
   },
   "file_extension": ".py",
   "mimetype": "text/x-python",
   "name": "python",
   "nbconvert_exporter": "python",
   "pygments_lexer": "ipython3",
   "version": "3.12.7"
  }
 },
 "nbformat": 4,
 "nbformat_minor": 5
}
