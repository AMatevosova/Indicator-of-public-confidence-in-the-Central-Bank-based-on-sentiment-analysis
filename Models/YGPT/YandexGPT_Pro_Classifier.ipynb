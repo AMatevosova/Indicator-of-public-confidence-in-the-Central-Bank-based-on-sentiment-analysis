{
 "cells": [
  {
   "cell_type": "markdown",
   "id": "aeb1c994-ad70-46f3-be83-f157cb02e91e",
   "metadata": {},
   "source": [
    "# Классификатор на базе YandexGPT Pro"
   ]
  },
  {
   "cell_type": "markdown",
   "id": "c221685d-be39-42b2-9291-4a9842554145",
   "metadata": {},
   "source": [
    "## Ноутбук запускается в Yandex DataSphere\n",
    "\n",
    "Документация:\n",
    "- Классификаторы по промту на базе YandexGPT:\n",
    "https://yandex.cloud/ru/docs/foundation-models/operations/classifier/readymade\n",
    "\n",
    "- Подготовка инфраструктуры: https://yandex.cloud/ru/docs/tutorials/ml-ai/models-fine-tuning\n",
    "\n",
    "Для запуска ноутбука необходимо создать секреты с собственным 'FOLDER_ID' и 'API_KEY'\n"
   ]
  },
  {
   "cell_type": "code",
   "execution_count": 1,
   "id": "c7ffb872-ea9f-4522-aa8e-42295ab424cf",
   "metadata": {
    "execution": {
     "iopub.execute_input": "2025-04-04T12:01:21.314710Z",
     "iopub.status.busy": "2025-04-04T12:01:21.313801Z",
     "iopub.status.idle": "2025-04-04T12:01:21.391945Z",
     "shell.execute_reply": "2025-04-04T12:01:21.390847Z",
     "shell.execute_reply.started": "2025-04-04T12:01:21.314664Z"
    },
    "tags": []
   },
   "outputs": [],
   "source": [
    "#%pip install --upgrade pip\n",
    "#%pip install yandexcloud --upgrade\n",
    "#%pip install yandex-cloud-ml-sdk --upgrade\n",
    "#%pip install scikit-learn --upgrade"
   ]
  },
  {
   "cell_type": "code",
   "execution_count": 48,
   "id": "c2c40b2c-16e7-4872-b5bb-5db25f61a0f0",
   "metadata": {
    "execution": {
     "iopub.execute_input": "2025-04-05T22:59:36.418359Z",
     "iopub.status.busy": "2025-04-05T22:59:36.417674Z",
     "iopub.status.idle": "2025-04-05T22:59:36.451082Z",
     "shell.execute_reply": "2025-04-05T22:59:36.450128Z",
     "shell.execute_reply.started": "2025-04-05T22:59:36.418313Z"
    },
    "tags": []
   },
   "outputs": [],
   "source": [
    "import os\n",
    "import pandas as pd\n",
    "import numpy as np\n",
    "from yandex_cloud_ml_sdk import YCloudML\n",
    "\n",
    "from sklearn.metrics import accuracy_score, precision_score, recall_score, f1_score, roc_auc_score, confusion_matrix\n",
    "from sklearn.metrics import root_mean_squared_error, mean_absolute_error\n",
    "from sklearn.metrics import cohen_kappa_score"
   ]
  },
  {
   "cell_type": "markdown",
   "id": "495f854c-806c-47e8-9dbc-5fc78cb34701",
   "metadata": {},
   "source": [
    "Рассматривается Zero-shot подход"
   ]
  },
  {
   "cell_type": "code",
   "execution_count": 49,
   "id": "0fada5ca-15a8-4106-af84-279040599926",
   "metadata": {
    "execution": {
     "iopub.execute_input": "2025-04-05T22:59:36.898858Z",
     "iopub.status.busy": "2025-04-05T22:59:36.897831Z",
     "iopub.status.idle": "2025-04-05T22:59:37.535404Z",
     "shell.execute_reply": "2025-04-05T22:59:37.534390Z",
     "shell.execute_reply.started": "2025-04-05T22:59:36.898812Z"
    },
    "tags": []
   },
   "outputs": [],
   "source": [
    "df = pd.read_excel('marked_data.xlsx')\n",
    "df['labels'] = df['labels'] + 1"
   ]
  },
  {
   "cell_type": "code",
   "execution_count": 50,
   "id": "68631009-70e9-4a13-9a80-d053acfc8f03",
   "metadata": {
    "execution": {
     "iopub.execute_input": "2025-04-05T22:59:37.883132Z",
     "iopub.status.busy": "2025-04-05T22:59:37.881536Z",
     "iopub.status.idle": "2025-04-05T22:59:37.936920Z",
     "shell.execute_reply": "2025-04-05T22:59:37.935806Z",
     "shell.execute_reply.started": "2025-04-05T22:59:37.883074Z"
    },
    "tags": []
   },
   "outputs": [],
   "source": [
    "df_test = df[9600:]"
   ]
  },
  {
   "cell_type": "code",
   "execution_count": 51,
   "id": "bd60f07e-8a0d-4a6f-9b39-b714ff56784c",
   "metadata": {
    "execution": {
     "iopub.execute_input": "2025-04-05T22:59:39.554069Z",
     "iopub.status.busy": "2025-04-05T22:59:39.552370Z",
     "iopub.status.idle": "2025-04-05T22:59:39.567458Z",
     "shell.execute_reply": "2025-04-05T22:59:39.566494Z",
     "shell.execute_reply.started": "2025-04-05T22:59:39.554012Z"
    },
    "tags": []
   },
   "outputs": [],
   "source": [
    "sdk = YCloudML(\n",
    "        folder_id=os.environ['FOLDER_ID'],\n",
    "        auth=os.environ['API_KEY'],\n",
    "    )\n",
    "    \n",
    "model = sdk.models.text_classifiers(\"yandexgpt\").configure(\n",
    "        task_description=\"определи тип эмоционального окраса комментария\",\n",
    "        labels=[\"негативный\", \"нейтральный\", \"позитивный\"],\n",
    "    )"
   ]
  },
  {
   "cell_type": "code",
   "execution_count": 52,
   "id": "e2b0a9ab-ec1d-4cda-9bbc-eb326371d14d",
   "metadata": {
    "execution": {
     "iopub.execute_input": "2025-04-05T22:59:42.372708Z",
     "iopub.status.busy": "2025-04-05T22:59:42.371793Z",
     "iopub.status.idle": "2025-04-05T23:11:59.977019Z",
     "shell.execute_reply": "2025-04-05T23:11:59.975842Z",
     "shell.execute_reply.started": "2025-04-05T22:59:42.372655Z"
    },
    "tags": []
   },
   "outputs": [],
   "source": [
    "pred = []\n",
    "p_neg = []\n",
    "p_neu = []\n",
    "p_pos = []\n",
    "for i in df_test.index:\n",
    "    request_text = df_test['text'][i]\n",
    "    result = model.run(request_text)\n",
    "    pred.append(np.argmax([result[0]['confidence'], result[1]['confidence'], result[2]['confidence']]))\n",
    "    p_neg.append(result[0]['confidence'])\n",
    "    p_neu.append(result[1]['confidence'])\n",
    "    p_pos.append(result[2]['confidence'])"
   ]
  },
  {
   "cell_type": "code",
   "execution_count": 53,
   "id": "0b56f56a-ca92-4cd0-b317-ad7952556b82",
   "metadata": {
    "execution": {
     "iopub.execute_input": "2025-04-05T23:12:46.825173Z",
     "iopub.status.busy": "2025-04-05T23:12:46.823910Z",
     "iopub.status.idle": "2025-04-05T23:12:46.865248Z",
     "shell.execute_reply": "2025-04-05T23:12:46.863921Z",
     "shell.execute_reply.started": "2025-04-05T23:12:46.825117Z"
    },
    "tags": []
   },
   "outputs": [
    {
     "data": {
      "text/html": [
       "<div>\n",
       "<style scoped>\n",
       "    .dataframe tbody tr th:only-of-type {\n",
       "        vertical-align: middle;\n",
       "    }\n",
       "\n",
       "    .dataframe tbody tr th {\n",
       "        vertical-align: top;\n",
       "    }\n",
       "\n",
       "    .dataframe thead th {\n",
       "        text-align: right;\n",
       "    }\n",
       "</style>\n",
       "<table border=\"1\" class=\"dataframe\">\n",
       "  <thead>\n",
       "    <tr style=\"text-align: right;\">\n",
       "      <th></th>\n",
       "      <th>post_id</th>\n",
       "      <th>text</th>\n",
       "      <th>labels</th>\n",
       "      <th>predict</th>\n",
       "      <th>Pneg</th>\n",
       "      <th>Pneutral</th>\n",
       "      <th>Ppos</th>\n",
       "      <th>Ppos-Pneg</th>\n",
       "    </tr>\n",
       "  </thead>\n",
       "  <tbody>\n",
       "    <tr>\n",
       "      <th>9600</th>\n",
       "      <td>1153020</td>\n",
       "      <td>А чего их поддерживать,не умеют ,не могут,пуст...</td>\n",
       "      <td>1</td>\n",
       "      <td>0</td>\n",
       "      <td>9.999990e-01</td>\n",
       "      <td>7.107128e-12</td>\n",
       "      <td>5.833886e-13</td>\n",
       "      <td>-9.999990e-01</td>\n",
       "    </tr>\n",
       "    <tr>\n",
       "      <th>9601</th>\n",
       "      <td>3608305</td>\n",
       "      <td>Я давно на них в суд подал. \\nГражданский!</td>\n",
       "      <td>1</td>\n",
       "      <td>0</td>\n",
       "      <td>9.999983e-01</td>\n",
       "      <td>7.224434e-07</td>\n",
       "      <td>1.452818e-10</td>\n",
       "      <td>-9.999983e-01</td>\n",
       "    </tr>\n",
       "    <tr>\n",
       "      <th>9602</th>\n",
       "      <td>1569787</td>\n",
       "      <td>Северные народы раньше вообще не мылись и толь...</td>\n",
       "      <td>0</td>\n",
       "      <td>0</td>\n",
       "      <td>9.999987e-01</td>\n",
       "      <td>2.699575e-07</td>\n",
       "      <td>2.476530e-09</td>\n",
       "      <td>-9.999987e-01</td>\n",
       "    </tr>\n",
       "    <tr>\n",
       "      <th>9603</th>\n",
       "      <td>3651054</td>\n",
       "      <td>у него листок каннабиса в груди?</td>\n",
       "      <td>1</td>\n",
       "      <td>1</td>\n",
       "      <td>1.367024e-03</td>\n",
       "      <td>9.986320e-01</td>\n",
       "      <td>7.128383e-09</td>\n",
       "      <td>-1.367017e-03</td>\n",
       "    </tr>\n",
       "    <tr>\n",
       "      <th>9604</th>\n",
       "      <td>3641012</td>\n",
       "      <td>Кто-то правительство развел.🤔</td>\n",
       "      <td>0</td>\n",
       "      <td>1</td>\n",
       "      <td>2.575952e-07</td>\n",
       "      <td>9.999987e-01</td>\n",
       "      <td>3.300642e-08</td>\n",
       "      <td>-2.245888e-07</td>\n",
       "    </tr>\n",
       "    <tr>\n",
       "      <th>...</th>\n",
       "      <td>...</td>\n",
       "      <td>...</td>\n",
       "      <td>...</td>\n",
       "      <td>...</td>\n",
       "      <td>...</td>\n",
       "      <td>...</td>\n",
       "      <td>...</td>\n",
       "      <td>...</td>\n",
       "    </tr>\n",
       "    <tr>\n",
       "      <th>9995</th>\n",
       "      <td>1139301</td>\n",
       "      <td>Не, ну это вообще пи.дец...!😡😤😡😤</td>\n",
       "      <td>2</td>\n",
       "      <td>0</td>\n",
       "      <td>9.999990e-01</td>\n",
       "      <td>1.694445e-13</td>\n",
       "      <td>2.553619e-13</td>\n",
       "      <td>-9.999990e-01</td>\n",
       "    </tr>\n",
       "    <tr>\n",
       "      <th>9996</th>\n",
       "      <td>5343030</td>\n",
       "      <td>Чего он сказал-то? Как назвал , оскорбил? Ниче...</td>\n",
       "      <td>0</td>\n",
       "      <td>0</td>\n",
       "      <td>9.999990e-01</td>\n",
       "      <td>3.674400e-09</td>\n",
       "      <td>2.189150e-11</td>\n",
       "      <td>-9.999990e-01</td>\n",
       "    </tr>\n",
       "    <tr>\n",
       "      <th>9997</th>\n",
       "      <td>5595571</td>\n",
       "      <td>Они все , включая и эту НаЕбулину , живут в Пу...</td>\n",
       "      <td>0</td>\n",
       "      <td>0</td>\n",
       "      <td>9.999990e-01</td>\n",
       "      <td>5.180188e-11</td>\n",
       "      <td>1.398110e-12</td>\n",
       "      <td>-9.999990e-01</td>\n",
       "    </tr>\n",
       "    <tr>\n",
       "      <th>9998</th>\n",
       "      <td>6590679</td>\n",
       "      <td>ну так власятм спасибо скажите , это их рук дело</td>\n",
       "      <td>0</td>\n",
       "      <td>0</td>\n",
       "      <td>9.999960e-01</td>\n",
       "      <td>2.948014e-06</td>\n",
       "      <td>1.252779e-08</td>\n",
       "      <td>-9.999960e-01</td>\n",
       "    </tr>\n",
       "    <tr>\n",
       "      <th>9999</th>\n",
       "      <td>3177783</td>\n",
       "      <td>12 лет обращаюсь во все инстанции по вопросу у...</td>\n",
       "      <td>0</td>\n",
       "      <td>0</td>\n",
       "      <td>9.999985e-01</td>\n",
       "      <td>4.628148e-07</td>\n",
       "      <td>3.902579e-11</td>\n",
       "      <td>-9.999985e-01</td>\n",
       "    </tr>\n",
       "  </tbody>\n",
       "</table>\n",
       "<p>400 rows × 8 columns</p>\n",
       "</div>"
      ],
      "text/plain": [
       "      post_id  ...     Ppos-Pneg\n",
       "9600  1153020  ... -9.999990e-01\n",
       "9601  3608305  ... -9.999983e-01\n",
       "9602  1569787  ... -9.999987e-01\n",
       "9603  3651054  ... -1.367017e-03\n",
       "9604  3641012  ... -2.245888e-07\n",
       "...       ...  ...           ...\n",
       "9995  1139301  ... -9.999990e-01\n",
       "9996  5343030  ... -9.999990e-01\n",
       "9997  5595571  ... -9.999990e-01\n",
       "9998  6590679  ... -9.999960e-01\n",
       "9999  3177783  ... -9.999985e-01\n",
       "\n",
       "[400 rows x 8 columns]"
      ]
     },
     "execution_count": 53,
     "metadata": {},
     "output_type": "execute_result"
    }
   ],
   "source": [
    "df_test_res0 = df_test.copy()\n",
    "df_test_res0['predict'] = pred\n",
    "df_test_res0['Pneg'] = p_neg\n",
    "df_test_res0['Pneutral'] = p_neu\n",
    "df_test_res0['Ppos'] = p_pos\n",
    "df_test_res0['Ppos-Pneg'] = df_test_res0['Ppos'] - df_test_res0['Pneg']\n",
    "df_test_res0"
   ]
  },
  {
   "cell_type": "code",
   "execution_count": 54,
   "id": "621b1c0d-0f2a-497d-8bdb-90ae4c4fd956",
   "metadata": {
    "execution": {
     "iopub.execute_input": "2025-04-05T23:12:50.996778Z",
     "iopub.status.busy": "2025-04-05T23:12:50.995318Z",
     "iopub.status.idle": "2025-04-05T23:12:51.028018Z",
     "shell.execute_reply": "2025-04-05T23:12:51.026866Z",
     "shell.execute_reply.started": "2025-04-05T23:12:50.996728Z"
    },
    "tags": []
   },
   "outputs": [
    {
     "name": "stdout",
     "output_type": "stream",
     "text": [
      "accuracy 0.5975\n",
      "macro_precision 0.556299972075476\n",
      "macro_recall 0.5618665816338942\n",
      "macro_f1 0.5587642832950068\n",
      "RMSE for Ppos-Pneg 0.802318324897733\n",
      "MAE for Ppos-Pneg 0.4816723775110387\n"
     ]
    }
   ],
   "source": [
    "print('accuracy', accuracy_score(df_test_res0['labels'], df_test_res0['predict']))\n",
    "print('macro_precision', precision_score(df_test_res0['labels'], df_test_res0['predict'], average='macro'))\n",
    "print('macro_recall', recall_score(df_test_res0['labels'], df_test_res0['predict'], average='macro'))\n",
    "print('macro_f1', f1_score(df_test_res0['labels'], df_test_res0['predict'], average='macro'))\n",
    "print('RMSE for Ppos-Pneg', root_mean_squared_error(df_test_res0['labels']-1, df_test_res0['Ppos-Pneg']))\n",
    "print('MAE for Ppos-Pneg', mean_absolute_error(df_test_res0['labels']-1, df_test_res0['Ppos-Pneg']))"
   ]
  },
  {
   "cell_type": "code",
   "execution_count": 55,
   "id": "67ff11e6-1816-44da-ae94-4df93020f3ff",
   "metadata": {
    "execution": {
     "iopub.execute_input": "2025-04-05T23:12:51.556977Z",
     "iopub.status.busy": "2025-04-05T23:12:51.555818Z",
     "iopub.status.idle": "2025-04-05T23:12:51.582591Z",
     "shell.execute_reply": "2025-04-05T23:12:51.581600Z",
     "shell.execute_reply.started": "2025-04-05T23:12:51.556931Z"
    },
    "tags": []
   },
   "outputs": [
    {
     "name": "stdout",
     "output_type": "stream",
     "text": [
      "precision by class [0.70103093 0.53731343 0.43055556]\n",
      "recall by class [0.69035533 0.52554745 0.46969697]\n",
      "f1 by class [0.69565217 0.53136531 0.44927536]\n"
     ]
    }
   ],
   "source": [
    "print('precision by class', precision_score(df_test_res0['labels'], df_test_res0['predict'], average=None))\n",
    "print('recall by class', recall_score(df_test_res0['labels'], df_test_res0['predict'], average=None))\n",
    "print('f1 by class', f1_score(df_test_res0['labels'], df_test_res0['predict'], average=None))"
   ]
  },
  {
   "cell_type": "code",
   "execution_count": 56,
   "id": "b64f22eb-209e-43bc-8846-c5ac44ccfd93",
   "metadata": {
    "execution": {
     "iopub.execute_input": "2025-04-05T23:12:51.990855Z",
     "iopub.status.busy": "2025-04-05T23:12:51.989518Z",
     "iopub.status.idle": "2025-04-05T23:12:52.009646Z",
     "shell.execute_reply": "2025-04-05T23:12:52.008697Z",
     "shell.execute_reply.started": "2025-04-05T23:12:51.990800Z"
    },
    "tags": []
   },
   "outputs": [
    {
     "data": {
      "text/plain": [
       "array([[136,  41,  20],\n",
       "       [ 44,  72,  21],\n",
       "       [ 14,  21,  31]])"
      ]
     },
     "execution_count": 56,
     "metadata": {},
     "output_type": "execute_result"
    }
   ],
   "source": [
    "confusion_matrix(df_test_res0['labels'], df_test_res0['predict'], labels=[0,1,2])"
   ]
  },
  {
   "cell_type": "code",
   "execution_count": 57,
   "id": "bd582e53-45fe-4198-98e0-e6ae734a016c",
   "metadata": {
    "execution": {
     "iopub.execute_input": "2025-04-05T23:12:52.396836Z",
     "iopub.status.busy": "2025-04-05T23:12:52.395575Z",
     "iopub.status.idle": "2025-04-05T23:12:52.413460Z",
     "shell.execute_reply": "2025-04-05T23:12:52.412515Z",
     "shell.execute_reply.started": "2025-04-05T23:12:52.396787Z"
    },
    "tags": []
   },
   "outputs": [
    {
     "data": {
      "text/plain": [
       "0.4143712841523971"
      ]
     },
     "execution_count": 57,
     "metadata": {},
     "output_type": "execute_result"
    }
   ],
   "source": [
    "cohen_kappa_score(df_test_res0['labels'], df_test_res0['predict'], labels=None, weights= 'quadratic', sample_weight=None)"
   ]
  },
  {
   "cell_type": "code",
   "execution_count": 58,
   "id": "b8b3eb33-fad3-48dc-8857-88d0a9a781f7",
   "metadata": {
    "execution": {
     "iopub.execute_input": "2025-04-05T23:13:15.152117Z",
     "iopub.status.busy": "2025-04-05T23:13:15.150742Z",
     "iopub.status.idle": "2025-04-05T23:13:15.263082Z",
     "shell.execute_reply": "2025-04-05T23:13:15.262055Z",
     "shell.execute_reply.started": "2025-04-05T23:13:15.152061Z"
    },
    "tags": []
   },
   "outputs": [],
   "source": [
    "df_test_res0.to_excel('YGPT_Zero-shot_9600-9999.xlsx')"
   ]
  }
 ],
 "metadata": {
  "kernelspec": {
   "display_name": "Python 3 (ipykernel)",
   "language": "python",
   "name": "python3"
  },
  "language_info": {
   "codemirror_mode": {
    "name": "ipython",
    "version": 3
   },
   "file_extension": ".py",
   "mimetype": "text/x-python",
   "name": "python",
   "nbconvert_exporter": "python",
   "pygments_lexer": "ipython3",
   "version": "3.12.7"
  }
 },
 "nbformat": 4,
 "nbformat_minor": 5
}
