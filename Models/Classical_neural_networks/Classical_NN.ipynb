{
 "cells": [
  {
   "cell_type": "markdown",
   "metadata": {
    "id": "i0xqWfQRMQqU"
   },
   "source": [
    "# Классические нейронные сети"
   ]
  },
  {
   "cell_type": "code",
   "execution_count": null,
   "metadata": {
    "id": "fLIvTBlMMVaS"
   },
   "outputs": [],
   "source": [
    "#pip install pymorphy3\n",
    "#pip install tensorflow==2.17.0"
   ]
  },
  {
   "cell_type": "code",
   "execution_count": null,
   "metadata": {
    "id": "5fIs8-mVJgYN"
   },
   "outputs": [],
   "source": [
    "import numpy as np\n",
    "import pandas as pd\n",
    "import re\n",
    "import nltk\n",
    "import matplotlib.pyplot as plt\n",
    "from bs4 import BeautifulSoup\n",
    "from nltk.corpus import stopwords\n",
    "from sklearn.feature_extraction.text import TfidfVectorizer\n",
    "from pymorphy3 import MorphAnalyzer\n",
    "\n",
    "import warnings\n",
    "warnings.filterwarnings(\"ignore\")"
   ]
  },
  {
   "cell_type": "code",
   "execution_count": null,
   "metadata": {
    "id": "SqqwROnN5iZg"
   },
   "outputs": [],
   "source": [
    "from tensorflow.keras.preprocessing.text import Tokenizer\n",
    "from sklearn.preprocessing import LabelEncoder\n",
    "from tensorflow.keras.preprocessing.sequence import pad_sequences\n",
    "from tensorflow.keras.models import Sequential\n",
    "from tensorflow.keras.layers import Embedding, SimpleRNN, LSTM, GRU, Bidirectional, Dense"
   ]
  },
  {
   "cell_type": "code",
   "execution_count": null,
   "metadata": {
    "id": "6P3OnF4Q2vpP"
   },
   "outputs": [],
   "source": [
    "from sklearn.metrics import accuracy_score, precision_score, recall_score, f1_score, roc_auc_score, confusion_matrix\n",
    "from sklearn.metrics import root_mean_squared_error, mean_absolute_error\n",
    "from sklearn.metrics import cohen_kappa_score"
   ]
  },
  {
   "cell_type": "code",
   "execution_count": null,
   "metadata": {
    "id": "qxAlTs5V2vs-"
   },
   "outputs": [],
   "source": [
    "df=pd.read_excel('marked_data.xlsx')\n",
    "df['labels'] = df['labels'] + 1"
   ]
  },
  {
   "cell_type": "markdown",
   "metadata": {
    "id": "IzlTaSy4K8jQ"
   },
   "source": [
    "# **Preprosessing**"
   ]
  },
  {
   "cell_type": "code",
   "execution_count": null,
   "metadata": {
    "colab": {
     "base_uri": "https://localhost:8080/"
    },
    "id": "TtE_7q6f4kM7",
    "outputId": "a7a29feb-885d-4168-b7ea-eb8b1919c4aa"
   },
   "outputs": [
    {
     "name": "stderr",
     "output_type": "stream",
     "text": [
      "[nltk_data] Downloading package stopwords to /root/nltk_data...\n",
      "[nltk_data]   Package stopwords is already up-to-date!\n"
     ]
    }
   ],
   "source": [
    "nltk.download('stopwords')\n",
    "stop_words = set(stopwords.words('russian'))\n",
    "morph = MorphAnalyzer()"
   ]
  },
  {
   "cell_type": "code",
   "execution_count": null,
   "metadata": {
    "id": "0HhKKaRh4nEp"
   },
   "outputs": [],
   "source": [
    "def text_preprocessing (text):\n",
    "    soup = BeautifulSoup(text, \"html.parser\")\n",
    "    clean_text = soup.get_text() #чтобы изначально удалить html-теги\n",
    "    clean_text = re.sub(r'[^А-я\\s]',' ',clean_text) #удаление неалфавитных символов (в том числе знаков пунктуации)\n",
    "    clean_text = clean_text.lower() #приведение к нижнему регистру\n",
    "    word_tokens = [morph.normal_forms(word)[0] for word in clean_text.split() if word not in stop_words] #удаление стоп-слов и лемматизация\n",
    "    clean_text = ' '.join(word_tokens)\n",
    "    return clean_text"
   ]
  },
  {
   "cell_type": "code",
   "execution_count": null,
   "metadata": {
    "id": "oQZKQbFk4nIJ"
   },
   "outputs": [],
   "source": [
    "df[\"clean_text\"] = df[\"text\"].map(text_preprocessing)"
   ]
  },
  {
   "cell_type": "markdown",
   "metadata": {
    "id": "sE6QD4ZELFD9"
   },
   "source": [
    "# **Vectorization**"
   ]
  },
  {
   "cell_type": "code",
   "execution_count": null,
   "metadata": {
    "id": "42T92lKvLUw2"
   },
   "outputs": [],
   "source": [
    "df_train = df[:7000]\n",
    "df_val = df[7000:8000]\n",
    "df_test = df[8000:]"
   ]
  },
  {
   "cell_type": "code",
   "execution_count": null,
   "metadata": {
    "colab": {
     "base_uri": "https://localhost:8080/"
    },
    "id": "QMtRPGH1LPYc",
    "outputId": "07e7682e-c359-48f8-eac3-441a90856161"
   },
   "outputs": [
    {
     "name": "stdout",
     "output_type": "stream",
     "text": [
      "13901\n"
     ]
    }
   ],
   "source": [
    "tokenizer = Tokenizer()\n",
    "tokenizer.fit_on_texts(df_train.clean_text)\n",
    "word_index = tokenizer.word_index\n",
    "vocab_size = len(word_index) + 1\n",
    "print(vocab_size)"
   ]
  },
  {
   "cell_type": "code",
   "execution_count": null,
   "metadata": {
    "id": "uki5oH-2WasS"
   },
   "outputs": [],
   "source": [
    "len_comments = pd.DataFrame(list(map(lambda x: len(x.split()), df.clean_text)))"
   ]
  },
  {
   "cell_type": "code",
   "execution_count": null,
   "metadata": {
    "colab": {
     "base_uri": "https://localhost:8080/"
    },
    "id": "ZD_QmD-2bZoy",
    "outputId": "7863d530-f171-4e06-a4b7-e1ae96be5b64"
   },
   "outputs": [
    {
     "data": {
      "text/plain": [
       "6.0"
      ]
     },
     "execution_count": 11,
     "metadata": {},
     "output_type": "execute_result"
    }
   ],
   "source": [
    "len_comments.median()[0]"
   ]
  },
  {
   "cell_type": "code",
   "execution_count": null,
   "metadata": {
    "colab": {
     "base_uri": "https://localhost:8080/"
    },
    "id": "YrKMbnLbaPk9",
    "outputId": "c3f891e5-e87c-44f5-84f3-ccc735cb7851"
   },
   "outputs": [
    {
     "name": "stdout",
     "output_type": "stream",
     "text": [
      "0.9503\n"
     ]
    }
   ],
   "source": [
    "print((len_comments < 30).mean()[0])"
   ]
  },
  {
   "cell_type": "code",
   "execution_count": null,
   "metadata": {
    "colab": {
     "base_uri": "https://localhost:8080/"
    },
    "id": "uP8lbRFYbWde",
    "outputId": "a1f4388f-b4ff-4c2a-84ef-05d12938a597"
   },
   "outputs": [
    {
     "name": "stdout",
     "output_type": "stream",
     "text": [
      "0.9949\n"
     ]
    }
   ],
   "source": [
    "print((len_comments < 100).mean()[0])"
   ]
  },
  {
   "cell_type": "code",
   "execution_count": null,
   "metadata": {
    "id": "D8CX7kI5WWNv"
   },
   "outputs": [],
   "source": [
    "x_train = pad_sequences(tokenizer.texts_to_sequences(df_train.clean_text),maxlen = 30)\n",
    "x_val = pad_sequences(tokenizer.texts_to_sequences(df_val.clean_text),maxlen = 30)\n",
    "x_test = pad_sequences(tokenizer.texts_to_sequences(df_test.clean_text),maxlen = 30)"
   ]
  },
  {
   "cell_type": "code",
   "execution_count": null,
   "metadata": {
    "id": "vqlxF_XscLga"
   },
   "outputs": [],
   "source": [
    "encoder = LabelEncoder()\n",
    "encoder.fit(df_train.labels.to_list())\n",
    "y_train = encoder.transform(df_train.labels.to_list())\n",
    "y_val = encoder.transform(df_val.labels.to_list())\n",
    "y_test = encoder.transform(df_test.labels.to_list())\n",
    "y_train = y_train.reshape(-1,1)\n",
    "y_val = y_val.reshape(-1,1)\n",
    "y_test = y_test.reshape(-1,1)"
   ]
  },
  {
   "cell_type": "markdown",
   "metadata": {
    "id": "X_ByxEiO7nPB"
   },
   "source": [
    "## **GRU**"
   ]
  },
  {
   "cell_type": "code",
   "execution_count": null,
   "metadata": {
    "id": "VNI85TvB7Vxg"
   },
   "outputs": [],
   "source": [
    "embedding_dim = 32\n",
    "model_GRU = Sequential()\n",
    "model_GRU.add(Embedding(vocab_size, embedding_dim, input_length = 200))\n",
    "model_GRU.add(GRU(128, dropout=0.2, recurrent_dropout=0.2))\n",
    "model_GRU.add(Dense(3, activation='softmax'))"
   ]
  },
  {
   "cell_type": "code",
   "execution_count": null,
   "metadata": {
    "colab": {
     "base_uri": "https://localhost:8080/"
    },
    "id": "rWKMb8ex7V4-",
    "outputId": "8a61442b-9db3-4a22-b02d-b5e054cf9b85"
   },
   "outputs": [
    {
     "name": "stdout",
     "output_type": "stream",
     "text": [
      "Epoch 1/2\n",
      "\u001b[1m438/438\u001b[0m \u001b[32m━━━━━━━━━━━━━━━━━━━━\u001b[0m\u001b[37m\u001b[0m \u001b[1m25s\u001b[0m 47ms/step - accuracy: 0.6406 - loss: 0.8051 - val_accuracy: 0.5490 - val_loss: 1.0110\n",
      "Epoch 2/2\n",
      "\u001b[1m438/438\u001b[0m \u001b[32m━━━━━━━━━━━━━━━━━━━━\u001b[0m\u001b[37m\u001b[0m \u001b[1m39s\u001b[0m 43ms/step - accuracy: 0.7848 - loss: 0.5233 - val_accuracy: 0.5380 - val_loss: 1.2136\n",
      "\u001b[1m32/32\u001b[0m \u001b[32m━━━━━━━━━━━━━━━━━━━━\u001b[0m\u001b[37m\u001b[0m \u001b[1m0s\u001b[0m 8ms/step - accuracy: 0.5482 - loss: 1.1878\n",
      "Accuracy: 0.54\n"
     ]
    }
   ],
   "source": [
    "model_GRU.compile(optimizer='adam', loss='sparse_categorical_crossentropy', metrics=['accuracy']) # Обучение модели\n",
    "model_GRU.fit(x_train, y_train, epochs=2, batch_size=16, validation_data=(x_val, y_val))\n",
    "loss, accuracy = model_GRU.evaluate(x_val, y_val)\n",
    "print(f'Accuracy: {accuracy:.2f}')"
   ]
  },
  {
   "cell_type": "code",
   "execution_count": null,
   "metadata": {
    "colab": {
     "base_uri": "https://localhost:8080/",
     "height": 265
    },
    "id": "v6ZrdoBo7w6T",
    "outputId": "d5722c2e-6e47-4f38-aa8c-c8c3e8021592"
   },
   "outputs": [
    {
     "data": {
      "text/html": [
       "<pre style=\"white-space:pre;overflow-x:auto;line-height:normal;font-family:Menlo,'DejaVu Sans Mono',consolas,'Courier New',monospace\"><span style=\"font-weight: bold\">Model: \"sequential_2\"</span>\n",
       "</pre>\n"
      ],
      "text/plain": [
       "\u001b[1mModel: \"sequential_2\"\u001b[0m\n"
      ]
     },
     "metadata": {},
     "output_type": "display_data"
    },
    {
     "data": {
      "text/html": [
       "<pre style=\"white-space:pre;overflow-x:auto;line-height:normal;font-family:Menlo,'DejaVu Sans Mono',consolas,'Courier New',monospace\">┏━━━━━━━━━━━━━━━━━━━━━━━━━━━━━━━━━━━━━━┳━━━━━━━━━━━━━━━━━━━━━━━━━━━━━┳━━━━━━━━━━━━━━━━━┓\n",
       "┃<span style=\"font-weight: bold\"> Layer (type)                         </span>┃<span style=\"font-weight: bold\"> Output Shape                </span>┃<span style=\"font-weight: bold\">         Param # </span>┃\n",
       "┡━━━━━━━━━━━━━━━━━━━━━━━━━━━━━━━━━━━━━━╇━━━━━━━━━━━━━━━━━━━━━━━━━━━━━╇━━━━━━━━━━━━━━━━━┩\n",
       "│ embedding_2 (<span style=\"color: #0087ff; text-decoration-color: #0087ff\">Embedding</span>)              │ (<span style=\"color: #00d7ff; text-decoration-color: #00d7ff\">None</span>, <span style=\"color: #00af00; text-decoration-color: #00af00\">30</span>, <span style=\"color: #00af00; text-decoration-color: #00af00\">32</span>)              │         <span style=\"color: #00af00; text-decoration-color: #00af00\">444,832</span> │\n",
       "├──────────────────────────────────────┼─────────────────────────────┼─────────────────┤\n",
       "│ gru_2 (<span style=\"color: #0087ff; text-decoration-color: #0087ff\">GRU</span>)                          │ (<span style=\"color: #00d7ff; text-decoration-color: #00d7ff\">None</span>, <span style=\"color: #00af00; text-decoration-color: #00af00\">128</span>)                 │          <span style=\"color: #00af00; text-decoration-color: #00af00\">62,208</span> │\n",
       "├──────────────────────────────────────┼─────────────────────────────┼─────────────────┤\n",
       "│ dense_2 (<span style=\"color: #0087ff; text-decoration-color: #0087ff\">Dense</span>)                      │ (<span style=\"color: #00d7ff; text-decoration-color: #00d7ff\">None</span>, <span style=\"color: #00af00; text-decoration-color: #00af00\">3</span>)                   │             <span style=\"color: #00af00; text-decoration-color: #00af00\">387</span> │\n",
       "└──────────────────────────────────────┴─────────────────────────────┴─────────────────┘\n",
       "</pre>\n"
      ],
      "text/plain": [
       "┏━━━━━━━━━━━━━━━━━━━━━━━━━━━━━━━━━━━━━━┳━━━━━━━━━━━━━━━━━━━━━━━━━━━━━┳━━━━━━━━━━━━━━━━━┓\n",
       "┃\u001b[1m \u001b[0m\u001b[1mLayer (type)                        \u001b[0m\u001b[1m \u001b[0m┃\u001b[1m \u001b[0m\u001b[1mOutput Shape               \u001b[0m\u001b[1m \u001b[0m┃\u001b[1m \u001b[0m\u001b[1m        Param #\u001b[0m\u001b[1m \u001b[0m┃\n",
       "┡━━━━━━━━━━━━━━━━━━━━━━━━━━━━━━━━━━━━━━╇━━━━━━━━━━━━━━━━━━━━━━━━━━━━━╇━━━━━━━━━━━━━━━━━┩\n",
       "│ embedding_2 (\u001b[38;5;33mEmbedding\u001b[0m)              │ (\u001b[38;5;45mNone\u001b[0m, \u001b[38;5;34m30\u001b[0m, \u001b[38;5;34m32\u001b[0m)              │         \u001b[38;5;34m444,832\u001b[0m │\n",
       "├──────────────────────────────────────┼─────────────────────────────┼─────────────────┤\n",
       "│ gru_2 (\u001b[38;5;33mGRU\u001b[0m)                          │ (\u001b[38;5;45mNone\u001b[0m, \u001b[38;5;34m128\u001b[0m)                 │          \u001b[38;5;34m62,208\u001b[0m │\n",
       "├──────────────────────────────────────┼─────────────────────────────┼─────────────────┤\n",
       "│ dense_2 (\u001b[38;5;33mDense\u001b[0m)                      │ (\u001b[38;5;45mNone\u001b[0m, \u001b[38;5;34m3\u001b[0m)                   │             \u001b[38;5;34m387\u001b[0m │\n",
       "└──────────────────────────────────────┴─────────────────────────────┴─────────────────┘\n"
      ]
     },
     "metadata": {},
     "output_type": "display_data"
    },
    {
     "data": {
      "text/html": [
       "<pre style=\"white-space:pre;overflow-x:auto;line-height:normal;font-family:Menlo,'DejaVu Sans Mono',consolas,'Courier New',monospace\"><span style=\"font-weight: bold\"> Total params: </span><span style=\"color: #00af00; text-decoration-color: #00af00\">1,522,283</span> (5.81 MB)\n",
       "</pre>\n"
      ],
      "text/plain": [
       "\u001b[1m Total params: \u001b[0m\u001b[38;5;34m1,522,283\u001b[0m (5.81 MB)\n"
      ]
     },
     "metadata": {},
     "output_type": "display_data"
    },
    {
     "data": {
      "text/html": [
       "<pre style=\"white-space:pre;overflow-x:auto;line-height:normal;font-family:Menlo,'DejaVu Sans Mono',consolas,'Courier New',monospace\"><span style=\"font-weight: bold\"> Trainable params: </span><span style=\"color: #00af00; text-decoration-color: #00af00\">507,427</span> (1.94 MB)\n",
       "</pre>\n"
      ],
      "text/plain": [
       "\u001b[1m Trainable params: \u001b[0m\u001b[38;5;34m507,427\u001b[0m (1.94 MB)\n"
      ]
     },
     "metadata": {},
     "output_type": "display_data"
    },
    {
     "data": {
      "text/html": [
       "<pre style=\"white-space:pre;overflow-x:auto;line-height:normal;font-family:Menlo,'DejaVu Sans Mono',consolas,'Courier New',monospace\"><span style=\"font-weight: bold\"> Non-trainable params: </span><span style=\"color: #00af00; text-decoration-color: #00af00\">0</span> (0.00 B)\n",
       "</pre>\n"
      ],
      "text/plain": [
       "\u001b[1m Non-trainable params: \u001b[0m\u001b[38;5;34m0\u001b[0m (0.00 B)\n"
      ]
     },
     "metadata": {},
     "output_type": "display_data"
    },
    {
     "data": {
      "text/html": [
       "<pre style=\"white-space:pre;overflow-x:auto;line-height:normal;font-family:Menlo,'DejaVu Sans Mono',consolas,'Courier New',monospace\"><span style=\"font-weight: bold\"> Optimizer params: </span><span style=\"color: #00af00; text-decoration-color: #00af00\">1,014,856</span> (3.87 MB)\n",
       "</pre>\n"
      ],
      "text/plain": [
       "\u001b[1m Optimizer params: \u001b[0m\u001b[38;5;34m1,014,856\u001b[0m (3.87 MB)\n"
      ]
     },
     "metadata": {},
     "output_type": "display_data"
    },
    {
     "name": "stdout",
     "output_type": "stream",
     "text": [
      "None\n"
     ]
    }
   ],
   "source": [
    "print(model_GRU.summary())"
   ]
  },
  {
   "cell_type": "code",
   "execution_count": null,
   "metadata": {
    "id": "ktuZLVCd7w9B"
   },
   "outputs": [],
   "source": [
    "predict_test = model_GRU.predict(x_test, verbose=0)\n",
    "df_test_GRU = df_test.copy()\n",
    "df_test_GRU['predict'] = predict_test.argmax(1).tolist()\n",
    "df_test_GRU['Pneg'] = predict_test[:,0]\n",
    "df_test_GRU['Pneutral'] = predict_test[:,1]\n",
    "df_test_GRU['Ppos'] = predict_test[:,2]\n",
    "df_test_GRU['Ppos-Pneg'] = df_test_GRU['Ppos'] - df_test_GRU['Pneg']"
   ]
  },
  {
   "cell_type": "code",
   "execution_count": null,
   "metadata": {
    "colab": {
     "base_uri": "https://localhost:8080/"
    },
    "id": "aA5nZefa8Qvp",
    "outputId": "0e0a7da1-7efa-497c-933a-391d4187bdaa"
   },
   "outputs": [
    {
     "name": "stdout",
     "output_type": "stream",
     "text": [
      "accuracy 0.532\n",
      "macro_precision 0.4891426008664343\n",
      "macro_recall 0.48380306413992\n",
      "macro_f1 0.4855911483870467\n",
      "RMSE for Ppos-Pneg 0.7953473329544067\n",
      "MAE for Ppos-Pneg 0.5971473455429077\n"
     ]
    }
   ],
   "source": [
    "print('accuracy', accuracy_score(df_test_GRU['labels'], df_test_GRU['predict']))\n",
    "print('macro_precision', precision_score(df_test_GRU['labels'], df_test_GRU['predict'], average='macro'))\n",
    "print('macro_recall', recall_score(df_test_GRU['labels'], df_test_GRU['predict'], average='macro'))\n",
    "print('macro_f1', f1_score(df_test_GRU['labels'], df_test_GRU['predict'], average='macro'))\n",
    "print('RMSE for Ppos-Pneg', root_mean_squared_error(df_test_GRU['labels']-1, df_test_GRU['Ppos-Pneg']))\n",
    "print('MAE for Ppos-Pneg', mean_absolute_error(df_test_GRU['labels']-1, df_test_GRU['Ppos-Pneg']))"
   ]
  },
  {
   "cell_type": "code",
   "execution_count": null,
   "metadata": {
    "colab": {
     "base_uri": "https://localhost:8080/"
    },
    "id": "uCaAX-LI8Qyc",
    "outputId": "b079ccf5-c989-41d7-8d34-89c69e289ce1"
   },
   "outputs": [
    {
     "name": "stdout",
     "output_type": "stream",
     "text": [
      "precision by class [0.63376111 0.45131376 0.38235294]\n",
      "recall by class [0.65310275 0.47249191 0.32581454]\n",
      "f1 by class [0.64328657 0.46166008 0.35182679]\n"
     ]
    }
   ],
   "source": [
    "print('precision by class', precision_score(df_test_GRU['labels'], df_test_GRU['predict'], average=None))\n",
    "print('recall by class', recall_score(df_test_GRU['labels'], df_test_GRU['predict'], average=None))\n",
    "print('f1 by class', f1_score(df_test_GRU['labels'], df_test_GRU['predict'], average=None))"
   ]
  },
  {
   "cell_type": "code",
   "execution_count": null,
   "metadata": {
    "colab": {
     "base_uri": "https://localhost:8080/"
    },
    "id": "8IYR1dsQ8aAL",
    "outputId": "7ac989b9-d921-49bd-e3ac-7238fa50f583"
   },
   "outputs": [
    {
     "data": {
      "text/plain": [
       "array([[642, 238, 103],\n",
       "       [219, 292, 107],\n",
       "       [152, 117, 130]])"
      ]
     },
     "execution_count": 45,
     "metadata": {},
     "output_type": "execute_result"
    }
   ],
   "source": [
    "confusion_matrix(df_test_GRU['labels'], df_test_GRU['predict'], labels=[0,1,2])"
   ]
  },
  {
   "cell_type": "code",
   "execution_count": null,
   "metadata": {
    "colab": {
     "base_uri": "https://localhost:8080/"
    },
    "id": "02pl0el_8ak7",
    "outputId": "787490fe-06b6-4db5-f5fe-2f239627becb"
   },
   "outputs": [
    {
     "data": {
      "text/plain": [
       "0.2736877702855034"
      ]
     },
     "execution_count": 46,
     "metadata": {},
     "output_type": "execute_result"
    }
   ],
   "source": [
    "cohen_kappa_score(df_test_GRU['labels'], df_test_GRU['predict'], labels=None, weights= 'quadratic', sample_weight=None)"
   ]
  },
  {
   "cell_type": "code",
   "execution_count": null,
   "metadata": {
    "id": "_vuMezODUsbG"
   },
   "outputs": [],
   "source": [
    "df_test_GRU.to_excel('Test_GRU.xlsx')"
   ]
  },
  {
   "cell_type": "markdown",
   "metadata": {
    "id": "x5o8hKZgLY0a"
   },
   "source": [
    "## **LSTM**"
   ]
  },
  {
   "cell_type": "code",
   "execution_count": null,
   "metadata": {
    "id": "4f7ro_tZJy2D"
   },
   "outputs": [],
   "source": [
    "embedding_dim = 32\n",
    "model_LSTM = Sequential()\n",
    "model_LSTM.add(Embedding(vocab_size, embedding_dim, input_length = 200))\n",
    "model_LSTM.add(LSTM(128, dropout=0.2, recurrent_dropout=0.2))\n",
    "model_LSTM.add(Dense(3, activation='softmax'))"
   ]
  },
  {
   "cell_type": "code",
   "execution_count": null,
   "metadata": {
    "colab": {
     "base_uri": "https://localhost:8080/"
    },
    "id": "ScGl7BNTKDb9",
    "outputId": "fdf0a04d-96cb-4780-d21d-239a35dc71a6"
   },
   "outputs": [
    {
     "name": "stdout",
     "output_type": "stream",
     "text": [
      "Epoch 1/2\n",
      "\u001b[1m438/438\u001b[0m \u001b[32m━━━━━━━━━━━━━━━━━━━━\u001b[0m\u001b[37m\u001b[0m \u001b[1m26s\u001b[0m 52ms/step - accuracy: 0.7876 - loss: 0.5288 - val_accuracy: 0.5240 - val_loss: 1.1180\n",
      "Epoch 2/2\n",
      "\u001b[1m438/438\u001b[0m \u001b[32m━━━━━━━━━━━━━━━━━━━━\u001b[0m\u001b[37m\u001b[0m \u001b[1m22s\u001b[0m 50ms/step - accuracy: 0.8533 - loss: 0.3808 - val_accuracy: 0.5290 - val_loss: 1.3103\n",
      "\u001b[1m32/32\u001b[0m \u001b[32m━━━━━━━━━━━━━━━━━━━━\u001b[0m\u001b[37m\u001b[0m \u001b[1m0s\u001b[0m 14ms/step - accuracy: 0.5295 - loss: 1.3002\n",
      "Accuracy: 0.53\n"
     ]
    }
   ],
   "source": [
    "model_LSTM.compile(optimizer='adam', loss='sparse_categorical_crossentropy', metrics=['accuracy']) # Обучение модели\n",
    "model_LSTM.fit(x_train, y_train, epochs=2, batch_size=16, validation_data=(x_val, y_val))\n",
    "loss, accuracy = model_LSTM.evaluate(x_val, y_val)\n",
    "print(f'Accuracy: {accuracy:.2f}')"
   ]
  },
  {
   "cell_type": "code",
   "execution_count": null,
   "metadata": {
    "colab": {
     "base_uri": "https://localhost:8080/",
     "height": 265
    },
    "id": "BiO-nCELhHEq",
    "outputId": "8ef8e730-9ec8-4469-ac79-a771ae6a293e"
   },
   "outputs": [
    {
     "data": {
      "text/html": [
       "<pre style=\"white-space:pre;overflow-x:auto;line-height:normal;font-family:Menlo,'DejaVu Sans Mono',consolas,'Courier New',monospace\"><span style=\"font-weight: bold\">Model: \"sequential_3\"</span>\n",
       "</pre>\n"
      ],
      "text/plain": [
       "\u001b[1mModel: \"sequential_3\"\u001b[0m\n"
      ]
     },
     "metadata": {},
     "output_type": "display_data"
    },
    {
     "data": {
      "text/html": [
       "<pre style=\"white-space:pre;overflow-x:auto;line-height:normal;font-family:Menlo,'DejaVu Sans Mono',consolas,'Courier New',monospace\">┏━━━━━━━━━━━━━━━━━━━━━━━━━━━━━━━━━━━━━━┳━━━━━━━━━━━━━━━━━━━━━━━━━━━━━┳━━━━━━━━━━━━━━━━━┓\n",
       "┃<span style=\"font-weight: bold\"> Layer (type)                         </span>┃<span style=\"font-weight: bold\"> Output Shape                </span>┃<span style=\"font-weight: bold\">         Param # </span>┃\n",
       "┡━━━━━━━━━━━━━━━━━━━━━━━━━━━━━━━━━━━━━━╇━━━━━━━━━━━━━━━━━━━━━━━━━━━━━╇━━━━━━━━━━━━━━━━━┩\n",
       "│ embedding_3 (<span style=\"color: #0087ff; text-decoration-color: #0087ff\">Embedding</span>)              │ (<span style=\"color: #00d7ff; text-decoration-color: #00d7ff\">None</span>, <span style=\"color: #00af00; text-decoration-color: #00af00\">30</span>, <span style=\"color: #00af00; text-decoration-color: #00af00\">32</span>)              │         <span style=\"color: #00af00; text-decoration-color: #00af00\">444,832</span> │\n",
       "├──────────────────────────────────────┼─────────────────────────────┼─────────────────┤\n",
       "│ lstm (<span style=\"color: #0087ff; text-decoration-color: #0087ff\">LSTM</span>)                          │ (<span style=\"color: #00d7ff; text-decoration-color: #00d7ff\">None</span>, <span style=\"color: #00af00; text-decoration-color: #00af00\">128</span>)                 │          <span style=\"color: #00af00; text-decoration-color: #00af00\">82,432</span> │\n",
       "├──────────────────────────────────────┼─────────────────────────────┼─────────────────┤\n",
       "│ dense_3 (<span style=\"color: #0087ff; text-decoration-color: #0087ff\">Dense</span>)                      │ (<span style=\"color: #00d7ff; text-decoration-color: #00d7ff\">None</span>, <span style=\"color: #00af00; text-decoration-color: #00af00\">3</span>)                   │             <span style=\"color: #00af00; text-decoration-color: #00af00\">387</span> │\n",
       "└──────────────────────────────────────┴─────────────────────────────┴─────────────────┘\n",
       "</pre>\n"
      ],
      "text/plain": [
       "┏━━━━━━━━━━━━━━━━━━━━━━━━━━━━━━━━━━━━━━┳━━━━━━━━━━━━━━━━━━━━━━━━━━━━━┳━━━━━━━━━━━━━━━━━┓\n",
       "┃\u001b[1m \u001b[0m\u001b[1mLayer (type)                        \u001b[0m\u001b[1m \u001b[0m┃\u001b[1m \u001b[0m\u001b[1mOutput Shape               \u001b[0m\u001b[1m \u001b[0m┃\u001b[1m \u001b[0m\u001b[1m        Param #\u001b[0m\u001b[1m \u001b[0m┃\n",
       "┡━━━━━━━━━━━━━━━━━━━━━━━━━━━━━━━━━━━━━━╇━━━━━━━━━━━━━━━━━━━━━━━━━━━━━╇━━━━━━━━━━━━━━━━━┩\n",
       "│ embedding_3 (\u001b[38;5;33mEmbedding\u001b[0m)              │ (\u001b[38;5;45mNone\u001b[0m, \u001b[38;5;34m30\u001b[0m, \u001b[38;5;34m32\u001b[0m)              │         \u001b[38;5;34m444,832\u001b[0m │\n",
       "├──────────────────────────────────────┼─────────────────────────────┼─────────────────┤\n",
       "│ lstm (\u001b[38;5;33mLSTM\u001b[0m)                          │ (\u001b[38;5;45mNone\u001b[0m, \u001b[38;5;34m128\u001b[0m)                 │          \u001b[38;5;34m82,432\u001b[0m │\n",
       "├──────────────────────────────────────┼─────────────────────────────┼─────────────────┤\n",
       "│ dense_3 (\u001b[38;5;33mDense\u001b[0m)                      │ (\u001b[38;5;45mNone\u001b[0m, \u001b[38;5;34m3\u001b[0m)                   │             \u001b[38;5;34m387\u001b[0m │\n",
       "└──────────────────────────────────────┴─────────────────────────────┴─────────────────┘\n"
      ]
     },
     "metadata": {},
     "output_type": "display_data"
    },
    {
     "data": {
      "text/html": [
       "<pre style=\"white-space:pre;overflow-x:auto;line-height:normal;font-family:Menlo,'DejaVu Sans Mono',consolas,'Courier New',monospace\"><span style=\"font-weight: bold\"> Total params: </span><span style=\"color: #00af00; text-decoration-color: #00af00\">1,582,955</span> (6.04 MB)\n",
       "</pre>\n"
      ],
      "text/plain": [
       "\u001b[1m Total params: \u001b[0m\u001b[38;5;34m1,582,955\u001b[0m (6.04 MB)\n"
      ]
     },
     "metadata": {},
     "output_type": "display_data"
    },
    {
     "data": {
      "text/html": [
       "<pre style=\"white-space:pre;overflow-x:auto;line-height:normal;font-family:Menlo,'DejaVu Sans Mono',consolas,'Courier New',monospace\"><span style=\"font-weight: bold\"> Trainable params: </span><span style=\"color: #00af00; text-decoration-color: #00af00\">527,651</span> (2.01 MB)\n",
       "</pre>\n"
      ],
      "text/plain": [
       "\u001b[1m Trainable params: \u001b[0m\u001b[38;5;34m527,651\u001b[0m (2.01 MB)\n"
      ]
     },
     "metadata": {},
     "output_type": "display_data"
    },
    {
     "data": {
      "text/html": [
       "<pre style=\"white-space:pre;overflow-x:auto;line-height:normal;font-family:Menlo,'DejaVu Sans Mono',consolas,'Courier New',monospace\"><span style=\"font-weight: bold\"> Non-trainable params: </span><span style=\"color: #00af00; text-decoration-color: #00af00\">0</span> (0.00 B)\n",
       "</pre>\n"
      ],
      "text/plain": [
       "\u001b[1m Non-trainable params: \u001b[0m\u001b[38;5;34m0\u001b[0m (0.00 B)\n"
      ]
     },
     "metadata": {},
     "output_type": "display_data"
    },
    {
     "data": {
      "text/html": [
       "<pre style=\"white-space:pre;overflow-x:auto;line-height:normal;font-family:Menlo,'DejaVu Sans Mono',consolas,'Courier New',monospace\"><span style=\"font-weight: bold\"> Optimizer params: </span><span style=\"color: #00af00; text-decoration-color: #00af00\">1,055,304</span> (4.03 MB)\n",
       "</pre>\n"
      ],
      "text/plain": [
       "\u001b[1m Optimizer params: \u001b[0m\u001b[38;5;34m1,055,304\u001b[0m (4.03 MB)\n"
      ]
     },
     "metadata": {},
     "output_type": "display_data"
    },
    {
     "name": "stdout",
     "output_type": "stream",
     "text": [
      "None\n"
     ]
    }
   ],
   "source": [
    "print(model_LSTM.summary())"
   ]
  },
  {
   "cell_type": "code",
   "execution_count": null,
   "metadata": {
    "id": "koejDbMThicf"
   },
   "outputs": [],
   "source": [
    "predict_test = model_LSTM.predict(x_test, verbose=0)\n",
    "df_test_LSTM = df_test.copy()\n",
    "df_test_LSTM['predict'] = predict_test.argmax(1).tolist()\n",
    "df_test_LSTM['Pneg'] = predict_test[:,0]\n",
    "df_test_LSTM['Pneutral'] = predict_test[:,1]\n",
    "df_test_LSTM['Ppos'] = predict_test[:,2]\n",
    "df_test_LSTM['Ppos-Pneg'] = df_test_LSTM['Ppos'] - df_test_LSTM['Pneg']"
   ]
  },
  {
   "cell_type": "code",
   "execution_count": null,
   "metadata": {
    "colab": {
     "base_uri": "https://localhost:8080/"
    },
    "id": "W3cLa_546Yb3",
    "outputId": "8447e2d3-938e-4b87-ab51-286107a22fb0"
   },
   "outputs": [
    {
     "name": "stdout",
     "output_type": "stream",
     "text": [
      "accuracy 0.537\n",
      "macro_precision 0.4896299390723107\n",
      "macro_recall 0.4670013717474095\n",
      "macro_f1 0.4700105915861204\n",
      "RMSE for Ppos-Pneg 0.8050621151924133\n",
      "MAE for Ppos-Pneg 0.5858951807022095\n"
     ]
    }
   ],
   "source": [
    "print('accuracy', accuracy_score(df_test_LSTM['labels'], df_test_LSTM['predict']))\n",
    "print('macro_precision', precision_score(df_test_LSTM['labels'], df_test_LSTM['predict'], average='macro'))\n",
    "print('macro_recall', recall_score(df_test_LSTM['labels'], df_test_LSTM['predict'], average='macro'))\n",
    "print('macro_f1', f1_score(df_test_LSTM['labels'], df_test_LSTM['predict'], average='macro'))\n",
    "print('RMSE for Ppos-Pneg', root_mean_squared_error(df_test_LSTM['labels']-1, df_test_LSTM['Ppos-Pneg']))\n",
    "print('MAE for Ppos-Pneg', mean_absolute_error(df_test_LSTM['labels']-1, df_test_LSTM['Ppos-Pneg']))"
   ]
  },
  {
   "cell_type": "code",
   "execution_count": null,
   "metadata": {
    "colab": {
     "base_uri": "https://localhost:8080/"
    },
    "id": "f-63pfu5hifB",
    "outputId": "0112115b-edb3-4bea-a5b0-e02ba914bf26"
   },
   "outputs": [
    {
     "name": "stdout",
     "output_type": "stream",
     "text": [
      "precision by class [0.60479042 0.45500849 0.40909091]\n",
      "recall by class [0.71922686 0.43365696 0.2481203 ]\n",
      "f1 by class [0.6570632  0.44407622 0.30889236]\n"
     ]
    }
   ],
   "source": [
    "print('precision by class', precision_score(df_test_LSTM['labels'], df_test_LSTM['predict'], average=None))\n",
    "print('recall by class', recall_score(df_test_LSTM['labels'], df_test_LSTM['predict'], average=None))\n",
    "print('f1 by class', f1_score(df_test_LSTM['labels'], df_test_LSTM['predict'], average=None))"
   ]
  },
  {
   "cell_type": "code",
   "execution_count": null,
   "metadata": {
    "colab": {
     "base_uri": "https://localhost:8080/"
    },
    "id": "BAWsIPz-62wv",
    "outputId": "bcb6d977-29f0-407b-be22-aafc72879b35"
   },
   "outputs": [
    {
     "data": {
      "text/plain": [
       "array([[707, 205,  71],\n",
       "       [278, 268,  72],\n",
       "       [184, 116,  99]])"
      ]
     },
     "execution_count": 61,
     "metadata": {},
     "output_type": "execute_result"
    }
   ],
   "source": [
    "confusion_matrix(df_test_LSTM['labels'], df_test_LSTM['predict'], labels=[0,1,2])"
   ]
  },
  {
   "cell_type": "code",
   "execution_count": null,
   "metadata": {
    "colab": {
     "base_uri": "https://localhost:8080/"
    },
    "id": "xfLJH4nK62zm",
    "outputId": "0021b36c-098e-43b1-cc9c-386391c65cea"
   },
   "outputs": [
    {
     "data": {
      "text/plain": [
       "0.24898917762760508"
      ]
     },
     "execution_count": 62,
     "metadata": {},
     "output_type": "execute_result"
    }
   ],
   "source": [
    "cohen_kappa_score(df_test_LSTM['labels'], df_test_LSTM['predict'], labels=None, weights= 'quadratic', sample_weight=None)"
   ]
  },
  {
   "cell_type": "code",
   "execution_count": null,
   "metadata": {
    "id": "fGL7UhY-UlNJ"
   },
   "outputs": [],
   "source": [
    "df_test_LSTM.to_excel('Test_LSTM.xlsx')"
   ]
  },
  {
   "cell_type": "markdown",
   "metadata": {
    "id": "q9JUoQa3_PM_"
   },
   "source": [
    "## CNN"
   ]
  },
  {
   "cell_type": "code",
   "execution_count": null,
   "metadata": {
    "id": "WlwaBZHVMbQ_"
   },
   "outputs": [],
   "source": [
    "from tensorflow.keras.layers import Conv1D, GlobalMaxPooling1D"
   ]
  },
  {
   "cell_type": "code",
   "execution_count": null,
   "metadata": {
    "id": "VNQfhEGn_Xwp"
   },
   "outputs": [],
   "source": [
    "embedding_dim = 32\n",
    "model_CNN = Sequential()\n",
    "model_CNN.add(Embedding(vocab_size, embedding_dim, input_length = 200))\n",
    "model_CNN.add(Conv1D(filters=128, kernel_size=3, activation='relu')),\n",
    "model_CNN.add(GlobalMaxPooling1D()),\n",
    "model_CNN.add(Dense(3, activation='softmax'))"
   ]
  },
  {
   "cell_type": "code",
   "execution_count": null,
   "metadata": {
    "colab": {
     "base_uri": "https://localhost:8080/"
    },
    "id": "ucDFHZGa_Pbs",
    "outputId": "27243684-518f-468e-b69d-c1da05ec386a"
   },
   "outputs": [
    {
     "name": "stdout",
     "output_type": "stream",
     "text": [
      "Epoch 1/2\n",
      "\u001b[1m438/438\u001b[0m \u001b[32m━━━━━━━━━━━━━━━━━━━━\u001b[0m\u001b[37m\u001b[0m \u001b[1m7s\u001b[0m 12ms/step - accuracy: 0.5042 - loss: 1.0133 - val_accuracy: 0.5470 - val_loss: 0.9565\n",
      "Epoch 2/2\n",
      "\u001b[1m438/438\u001b[0m \u001b[32m━━━━━━━━━━━━━━━━━━━━\u001b[0m\u001b[37m\u001b[0m \u001b[1m2s\u001b[0m 5ms/step - accuracy: 0.6488 - loss: 0.8134 - val_accuracy: 0.5630 - val_loss: 0.9439\n",
      "\u001b[1m32/32\u001b[0m \u001b[32m━━━━━━━━━━━━━━━━━━━━\u001b[0m\u001b[37m\u001b[0m \u001b[1m0s\u001b[0m 3ms/step - accuracy: 0.5470 - loss: 0.9593\n",
      "Accuracy: 0.56\n"
     ]
    }
   ],
   "source": [
    "model_CNN.compile(optimizer='adam', loss='sparse_categorical_crossentropy', metrics=['accuracy']) # Обучение модели\n",
    "model_CNN.fit(x_train, y_train, epochs=2, batch_size=16, validation_data=(x_val, y_val))\n",
    "loss, accuracy = model_CNN.evaluate(x_val, y_val)\n",
    "print(f'Accuracy: {accuracy:.2f}')"
   ]
  },
  {
   "cell_type": "code",
   "execution_count": null,
   "metadata": {
    "colab": {
     "base_uri": "https://localhost:8080/",
     "height": 315
    },
    "id": "E6q5_cOn__P5",
    "outputId": "7cabb446-1ae9-40a3-af03-867d864dfac6"
   },
   "outputs": [
    {
     "data": {
      "text/html": [
       "<pre style=\"white-space:pre;overflow-x:auto;line-height:normal;font-family:Menlo,'DejaVu Sans Mono',consolas,'Courier New',monospace\"><span style=\"font-weight: bold\">Model: \"sequential_4\"</span>\n",
       "</pre>\n"
      ],
      "text/plain": [
       "\u001b[1mModel: \"sequential_4\"\u001b[0m\n"
      ]
     },
     "metadata": {},
     "output_type": "display_data"
    },
    {
     "data": {
      "text/html": [
       "<pre style=\"white-space:pre;overflow-x:auto;line-height:normal;font-family:Menlo,'DejaVu Sans Mono',consolas,'Courier New',monospace\">┏━━━━━━━━━━━━━━━━━━━━━━━━━━━━━━━━━━━━━━┳━━━━━━━━━━━━━━━━━━━━━━━━━━━━━┳━━━━━━━━━━━━━━━━━┓\n",
       "┃<span style=\"font-weight: bold\"> Layer (type)                         </span>┃<span style=\"font-weight: bold\"> Output Shape                </span>┃<span style=\"font-weight: bold\">         Param # </span>┃\n",
       "┡━━━━━━━━━━━━━━━━━━━━━━━━━━━━━━━━━━━━━━╇━━━━━━━━━━━━━━━━━━━━━━━━━━━━━╇━━━━━━━━━━━━━━━━━┩\n",
       "│ embedding_4 (<span style=\"color: #0087ff; text-decoration-color: #0087ff\">Embedding</span>)              │ (<span style=\"color: #00d7ff; text-decoration-color: #00d7ff\">None</span>, <span style=\"color: #00af00; text-decoration-color: #00af00\">30</span>, <span style=\"color: #00af00; text-decoration-color: #00af00\">32</span>)              │         <span style=\"color: #00af00; text-decoration-color: #00af00\">444,832</span> │\n",
       "├──────────────────────────────────────┼─────────────────────────────┼─────────────────┤\n",
       "│ conv1d (<span style=\"color: #0087ff; text-decoration-color: #0087ff\">Conv1D</span>)                      │ (<span style=\"color: #00d7ff; text-decoration-color: #00d7ff\">None</span>, <span style=\"color: #00af00; text-decoration-color: #00af00\">28</span>, <span style=\"color: #00af00; text-decoration-color: #00af00\">128</span>)             │          <span style=\"color: #00af00; text-decoration-color: #00af00\">12,416</span> │\n",
       "├──────────────────────────────────────┼─────────────────────────────┼─────────────────┤\n",
       "│ global_max_pooling1d                 │ (<span style=\"color: #00d7ff; text-decoration-color: #00d7ff\">None</span>, <span style=\"color: #00af00; text-decoration-color: #00af00\">128</span>)                 │               <span style=\"color: #00af00; text-decoration-color: #00af00\">0</span> │\n",
       "│ (<span style=\"color: #0087ff; text-decoration-color: #0087ff\">GlobalMaxPooling1D</span>)                 │                             │                 │\n",
       "├──────────────────────────────────────┼─────────────────────────────┼─────────────────┤\n",
       "│ dense_4 (<span style=\"color: #0087ff; text-decoration-color: #0087ff\">Dense</span>)                      │ (<span style=\"color: #00d7ff; text-decoration-color: #00d7ff\">None</span>, <span style=\"color: #00af00; text-decoration-color: #00af00\">3</span>)                   │             <span style=\"color: #00af00; text-decoration-color: #00af00\">387</span> │\n",
       "└──────────────────────────────────────┴─────────────────────────────┴─────────────────┘\n",
       "</pre>\n"
      ],
      "text/plain": [
       "┏━━━━━━━━━━━━━━━━━━━━━━━━━━━━━━━━━━━━━━┳━━━━━━━━━━━━━━━━━━━━━━━━━━━━━┳━━━━━━━━━━━━━━━━━┓\n",
       "┃\u001b[1m \u001b[0m\u001b[1mLayer (type)                        \u001b[0m\u001b[1m \u001b[0m┃\u001b[1m \u001b[0m\u001b[1mOutput Shape               \u001b[0m\u001b[1m \u001b[0m┃\u001b[1m \u001b[0m\u001b[1m        Param #\u001b[0m\u001b[1m \u001b[0m┃\n",
       "┡━━━━━━━━━━━━━━━━━━━━━━━━━━━━━━━━━━━━━━╇━━━━━━━━━━━━━━━━━━━━━━━━━━━━━╇━━━━━━━━━━━━━━━━━┩\n",
       "│ embedding_4 (\u001b[38;5;33mEmbedding\u001b[0m)              │ (\u001b[38;5;45mNone\u001b[0m, \u001b[38;5;34m30\u001b[0m, \u001b[38;5;34m32\u001b[0m)              │         \u001b[38;5;34m444,832\u001b[0m │\n",
       "├──────────────────────────────────────┼─────────────────────────────┼─────────────────┤\n",
       "│ conv1d (\u001b[38;5;33mConv1D\u001b[0m)                      │ (\u001b[38;5;45mNone\u001b[0m, \u001b[38;5;34m28\u001b[0m, \u001b[38;5;34m128\u001b[0m)             │          \u001b[38;5;34m12,416\u001b[0m │\n",
       "├──────────────────────────────────────┼─────────────────────────────┼─────────────────┤\n",
       "│ global_max_pooling1d                 │ (\u001b[38;5;45mNone\u001b[0m, \u001b[38;5;34m128\u001b[0m)                 │               \u001b[38;5;34m0\u001b[0m │\n",
       "│ (\u001b[38;5;33mGlobalMaxPooling1D\u001b[0m)                 │                             │                 │\n",
       "├──────────────────────────────────────┼─────────────────────────────┼─────────────────┤\n",
       "│ dense_4 (\u001b[38;5;33mDense\u001b[0m)                      │ (\u001b[38;5;45mNone\u001b[0m, \u001b[38;5;34m3\u001b[0m)                   │             \u001b[38;5;34m387\u001b[0m │\n",
       "└──────────────────────────────────────┴─────────────────────────────┴─────────────────┘\n"
      ]
     },
     "metadata": {},
     "output_type": "display_data"
    },
    {
     "data": {
      "text/html": [
       "<pre style=\"white-space:pre;overflow-x:auto;line-height:normal;font-family:Menlo,'DejaVu Sans Mono',consolas,'Courier New',monospace\"><span style=\"font-weight: bold\"> Total params: </span><span style=\"color: #00af00; text-decoration-color: #00af00\">1,372,907</span> (5.24 MB)\n",
       "</pre>\n"
      ],
      "text/plain": [
       "\u001b[1m Total params: \u001b[0m\u001b[38;5;34m1,372,907\u001b[0m (5.24 MB)\n"
      ]
     },
     "metadata": {},
     "output_type": "display_data"
    },
    {
     "data": {
      "text/html": [
       "<pre style=\"white-space:pre;overflow-x:auto;line-height:normal;font-family:Menlo,'DejaVu Sans Mono',consolas,'Courier New',monospace\"><span style=\"font-weight: bold\"> Trainable params: </span><span style=\"color: #00af00; text-decoration-color: #00af00\">457,635</span> (1.75 MB)\n",
       "</pre>\n"
      ],
      "text/plain": [
       "\u001b[1m Trainable params: \u001b[0m\u001b[38;5;34m457,635\u001b[0m (1.75 MB)\n"
      ]
     },
     "metadata": {},
     "output_type": "display_data"
    },
    {
     "data": {
      "text/html": [
       "<pre style=\"white-space:pre;overflow-x:auto;line-height:normal;font-family:Menlo,'DejaVu Sans Mono',consolas,'Courier New',monospace\"><span style=\"font-weight: bold\"> Non-trainable params: </span><span style=\"color: #00af00; text-decoration-color: #00af00\">0</span> (0.00 B)\n",
       "</pre>\n"
      ],
      "text/plain": [
       "\u001b[1m Non-trainable params: \u001b[0m\u001b[38;5;34m0\u001b[0m (0.00 B)\n"
      ]
     },
     "metadata": {},
     "output_type": "display_data"
    },
    {
     "data": {
      "text/html": [
       "<pre style=\"white-space:pre;overflow-x:auto;line-height:normal;font-family:Menlo,'DejaVu Sans Mono',consolas,'Courier New',monospace\"><span style=\"font-weight: bold\"> Optimizer params: </span><span style=\"color: #00af00; text-decoration-color: #00af00\">915,272</span> (3.49 MB)\n",
       "</pre>\n"
      ],
      "text/plain": [
       "\u001b[1m Optimizer params: \u001b[0m\u001b[38;5;34m915,272\u001b[0m (3.49 MB)\n"
      ]
     },
     "metadata": {},
     "output_type": "display_data"
    },
    {
     "name": "stdout",
     "output_type": "stream",
     "text": [
      "None\n"
     ]
    }
   ],
   "source": [
    "print(model_CNN.summary())"
   ]
  },
  {
   "cell_type": "code",
   "execution_count": null,
   "metadata": {
    "id": "2qvg9hLaAGuJ"
   },
   "outputs": [],
   "source": [
    "predict_test = model_CNN.predict(x_test, verbose=0)\n",
    "df_test_CNN = df_test.copy()\n",
    "df_test_CNN['predict'] = predict_test.argmax(1).tolist()\n",
    "df_test_CNN['Pneg'] = predict_test[:,0]\n",
    "df_test_CNN['Pneutral'] = predict_test[:,1]\n",
    "df_test_CNN['Ppos'] = predict_test[:,2]\n",
    "df_test_CNN['Ppos-Pneg'] = df_test_CNN['Ppos'] - df_test_CNN['Pneg']"
   ]
  },
  {
   "cell_type": "code",
   "execution_count": null,
   "metadata": {
    "colab": {
     "base_uri": "https://localhost:8080/"
    },
    "id": "l2PPUHRBAGx2",
    "outputId": "bd4e9f03-bb77-46e5-91d6-144783677a60"
   },
   "outputs": [
    {
     "name": "stdout",
     "output_type": "stream",
     "text": [
      "accuracy 0.5515\n",
      "macro_precision 0.516973278102664\n",
      "macro_recall 0.480066137683029\n",
      "macro_f1 0.4747059124989174\n",
      "RMSE for Ppos-Pneg 0.7388778328895569\n",
      "MAE for Ppos-Pneg 0.5910289287567139\n"
     ]
    }
   ],
   "source": [
    "print('accuracy', accuracy_score(df_test_CNN['labels'], df_test_CNN['predict']))\n",
    "print('macro_precision', precision_score(df_test_CNN['labels'], df_test_CNN['predict'], average='macro'))\n",
    "print('macro_recall', recall_score(df_test_CNN['labels'], df_test_CNN['predict'], average='macro'))\n",
    "print('macro_f1', f1_score(df_test_CNN['labels'], df_test_CNN['predict'], average='macro'))\n",
    "print('RMSE for Ppos-Pneg', root_mean_squared_error(df_test_CNN['labels']-1, df_test_CNN['Ppos-Pneg']))\n",
    "print('MAE for Ppos-Pneg', mean_absolute_error(df_test_CNN['labels']-1, df_test_CNN['Ppos-Pneg']))"
   ]
  },
  {
   "cell_type": "code",
   "execution_count": null,
   "metadata": {
    "colab": {
     "base_uri": "https://localhost:8080/"
    },
    "id": "WkRg87WDAaw_",
    "outputId": "57b5b716-f7db-4871-d9e6-6f5acc6ca866"
   },
   "outputs": [
    {
     "name": "stdout",
     "output_type": "stream",
     "text": [
      "precision by class [0.62685185 0.46354167 0.46052632]\n",
      "recall by class [0.68870804 0.57605178 0.1754386 ]\n",
      "f1 by class [0.65632574 0.51370851 0.25408348]\n"
     ]
    }
   ],
   "source": [
    "print('precision by class', precision_score(df_test_CNN['labels'], df_test_CNN['predict'], average=None))\n",
    "print('recall by class', recall_score(df_test_CNN['labels'], df_test_CNN['predict'], average=None))\n",
    "print('f1 by class', f1_score(df_test_CNN['labels'], df_test_CNN['predict'], average=None))"
   ]
  },
  {
   "cell_type": "code",
   "execution_count": null,
   "metadata": {
    "colab": {
     "base_uri": "https://localhost:8080/"
    },
    "id": "NfU2BZNWAlKa",
    "outputId": "2b5b3033-0b05-407a-dd48-621e11c862ff"
   },
   "outputs": [
    {
     "data": {
      "text/plain": [
       "array([[677, 263,  43],\n",
       "       [223, 356,  39],\n",
       "       [180, 149,  70]])"
      ]
     },
     "execution_count": 71,
     "metadata": {},
     "output_type": "execute_result"
    }
   ],
   "source": [
    "confusion_matrix(df_test_CNN['labels'], df_test_CNN['predict'], labels=[0,1,2])"
   ]
  },
  {
   "cell_type": "code",
   "execution_count": null,
   "metadata": {
    "colab": {
     "base_uri": "https://localhost:8080/"
    },
    "id": "qCoMx4yoAqeO",
    "outputId": "cfa175d0-70bb-4350-bd20-9010a57aa42f"
   },
   "outputs": [
    {
     "data": {
      "text/plain": [
       "0.24422600248642878"
      ]
     },
     "execution_count": 72,
     "metadata": {},
     "output_type": "execute_result"
    }
   ],
   "source": [
    "cohen_kappa_score(df_test_CNN['labels'], df_test_CNN['predict'], labels=None, weights= 'quadratic', sample_weight=None)"
   ]
  },
  {
   "cell_type": "code",
   "execution_count": null,
   "metadata": {
    "id": "sgWkUXcLTE8l"
   },
   "outputs": [],
   "source": [
    "df_test_CNN.to_excel('Test_CNN.xlsx')"
   ]
  },
  {
   "cell_type": "markdown",
   "metadata": {
    "id": "VN9hxnAPUCLX"
   },
   "source": [
    "# Предсказания моделей на данных по всем комментариям"
   ]
  },
  {
   "cell_type": "code",
   "execution_count": null,
   "metadata": {
    "id": "G8pRrI62UA7k"
   },
   "outputs": [],
   "source": [
    "df_ec = pd.read_csv('ec_comments.csv')\n",
    "df_cb = pd.read_csv('comments_with_cb.csv')"
   ]
  },
  {
   "cell_type": "code",
   "execution_count": null,
   "metadata": {
    "id": "cSad4ZqwUE7Y"
   },
   "outputs": [],
   "source": [
    "df_ec[\"clean_text\"] = df_ec[\"text\"].map(text_preprocessing)\n",
    "df_cb[\"clean_text\"] = df_cb[\"text\"].map(text_preprocessing)"
   ]
  },
  {
   "cell_type": "code",
   "execution_count": null,
   "metadata": {
    "id": "XrIzJcGfUGwy"
   },
   "outputs": [],
   "source": [
    "ec_vec = pad_sequences(tokenizer.texts_to_sequences(df_ec.clean_text),maxlen = 30)\n",
    "cb_vec = pad_sequences(tokenizer.texts_to_sequences(df_cb.clean_text),maxlen = 30)"
   ]
  },
  {
   "cell_type": "code",
   "execution_count": null,
   "metadata": {
    "id": "SQ_BCNp4UJhi"
   },
   "outputs": [],
   "source": [
    "models = {'GRU': model_GRU, 'LSTM': model_LSTM, 'CNN': model_CNN}"
   ]
  },
  {
   "cell_type": "code",
   "execution_count": null,
   "metadata": {
    "colab": {
     "base_uri": "https://localhost:8080/"
    },
    "id": "0SvjY3f8UMqU",
    "outputId": "e56de84a-03a4-49b4-9707-5ccdc5c8c37c"
   },
   "outputs": [
    {
     "name": "stdout",
     "output_type": "stream",
     "text": [
      "\u001b[1m6265/6265\u001b[0m \u001b[32m━━━━━━━━━━━━━━━━━━━━\u001b[0m\u001b[37m\u001b[0m \u001b[1m42s\u001b[0m 7ms/step\n",
      "\u001b[1m2330/2330\u001b[0m \u001b[32m━━━━━━━━━━━━━━━━━━━━\u001b[0m\u001b[37m\u001b[0m \u001b[1m16s\u001b[0m 7ms/step\n",
      "GRU\n",
      "\u001b[1m6265/6265\u001b[0m \u001b[32m━━━━━━━━━━━━━━━━━━━━\u001b[0m\u001b[37m\u001b[0m \u001b[1m47s\u001b[0m 8ms/step\n",
      "\u001b[1m2330/2330\u001b[0m \u001b[32m━━━━━━━━━━━━━━━━━━━━\u001b[0m\u001b[37m\u001b[0m \u001b[1m18s\u001b[0m 8ms/step\n",
      "LSTM\n",
      "\u001b[1m6265/6265\u001b[0m \u001b[32m━━━━━━━━━━━━━━━━━━━━\u001b[0m\u001b[37m\u001b[0m \u001b[1m10s\u001b[0m 2ms/step\n",
      "\u001b[1m2330/2330\u001b[0m \u001b[32m━━━━━━━━━━━━━━━━━━━━\u001b[0m\u001b[37m\u001b[0m \u001b[1m3s\u001b[0m 1ms/step\n",
      "CNN\n"
     ]
    }
   ],
   "source": [
    "for model_name in models.keys():\n",
    "    m = models[model_name]\n",
    "    ec = df_ec.copy()\n",
    "    cb = df_cb.copy()\n",
    "\n",
    "    predict_ec = m.predict(ec_vec)\n",
    "    ec['predict'] = predict_ec.argmax(1).tolist()\n",
    "    ec['Pneg'] = predict_ec[:,0]\n",
    "    ec['Pneutral'] = predict_ec[:,1]\n",
    "    ec['Ppos'] = predict_ec[:,2]\n",
    "    ec['Ppos-Pneg'] = ec['Ppos'] - ec['Pneg']\n",
    "    path = f'ec_{model_name}.csv'\n",
    "    ec.to_csv(path)\n",
    "\n",
    "    predict_cb = m.predict(cb_vec)\n",
    "    cb['predict'] = predict_cb.argmax(1).tolist()\n",
    "    cb['Pneg'] = predict_cb[:,0]\n",
    "    cb['Pneutral'] = predict_cb[:,1]\n",
    "    cb['Ppos'] = predict_cb[:,2]\n",
    "    cb['Ppos-Pneg'] = cb['Ppos'] - cb['Pneg']\n",
    "    path = f'cb_{model_name}.csv'\n",
    "    cb.to_csv(path)\n",
    "\n",
    "    print(model_name)"
   ]
  }
 ],
 "metadata": {
  "accelerator": "GPU",
  "colab": {
   "gpuType": "T4",
   "provenance": []
  },
  "kernelspec": {
   "display_name": "Python 3 (ipykernel)",
   "language": "python",
   "name": "python3"
  },
  "language_info": {
   "codemirror_mode": {
    "name": "ipython",
    "version": 3
   },
   "file_extension": ".py",
   "mimetype": "text/x-python",
   "name": "python",
   "nbconvert_exporter": "python",
   "pygments_lexer": "ipython3",
   "version": "3.12.7"
  }
 },
 "nbformat": 4,
 "nbformat_minor": 4
}
